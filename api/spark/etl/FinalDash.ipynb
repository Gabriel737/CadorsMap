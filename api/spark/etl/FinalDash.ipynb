{
  "nbformat": 4,
  "nbformat_minor": 0,
  "metadata": {
    "colab": {
      "name": "FinalDash.ipynb",
      "provenance": [],
      "collapsed_sections": []
    },
    "kernelspec": {
      "name": "python3",
      "display_name": "Python 3"
    },
    "language_info": {
      "name": "python"
    }
  },
  "cells": [
    {
      "cell_type": "code",
      "metadata": {
        "colab": {
          "base_uri": "https://localhost:8080/"
        },
        "id": "GdXrmML_ZHSM",
        "outputId": "7a7da06f-66ce-43ae-feeb-46ee1090e071"
      },
      "source": [
        "pip install pyspark"
      ],
      "execution_count": null,
      "outputs": [
        {
          "output_type": "stream",
          "name": "stdout",
          "text": [
            "Collecting pyspark\n",
            "  Downloading pyspark-3.2.0.tar.gz (281.3 MB)\n",
            "\u001b[K     |████████████████████████████████| 281.3 MB 38 kB/s \n",
            "\u001b[?25hCollecting py4j==0.10.9.2\n",
            "  Downloading py4j-0.10.9.2-py2.py3-none-any.whl (198 kB)\n",
            "\u001b[K     |████████████████████████████████| 198 kB 64.5 MB/s \n",
            "\u001b[?25hBuilding wheels for collected packages: pyspark\n",
            "  Building wheel for pyspark (setup.py) ... \u001b[?25l\u001b[?25hdone\n",
            "  Created wheel for pyspark: filename=pyspark-3.2.0-py2.py3-none-any.whl size=281805912 sha256=ff64b3cfafe876726a9d4b577e2382e1f6df14e0a22de9ed5a0dbe4c2ebbe163\n",
            "  Stored in directory: /root/.cache/pip/wheels/0b/de/d2/9be5d59d7331c6c2a7c1b6d1a4f463ce107332b1ecd4e80718\n",
            "Successfully built pyspark\n",
            "Installing collected packages: py4j, pyspark\n",
            "Successfully installed py4j-0.10.9.2 pyspark-3.2.0\n"
          ]
        }
      ]
    },
    {
      "cell_type": "code",
      "metadata": {
        "id": "yq-5Yu-MZRtp"
      },
      "source": [
        "import pyspark\n",
        "from pyspark.sql import SparkSession\n",
        "from pyspark.sql.functions import *\n",
        "from pyspark.ml.feature import *\n",
        "from pyspark.sql import SparkSession, functions\n",
        "from pyspark.sql.types import *"
      ],
      "execution_count": null,
      "outputs": []
    },
    {
      "cell_type": "code",
      "metadata": {
        "id": "bMr2MidDZSVD",
        "colab": {
          "base_uri": "https://localhost:8080/"
        },
        "outputId": "ff620f77-2afa-461e-cab3-9eb4696e489b"
      },
      "source": [
        "from google.colab import drive\n",
        "drive.mount('/content/drive')"
      ],
      "execution_count": null,
      "outputs": [
        {
          "output_type": "stream",
          "name": "stdout",
          "text": [
            "Mounted at /content/drive\n"
          ]
        }
      ]
    },
    {
      "cell_type": "code",
      "metadata": {
        "id": "6iO8bd3YZU4i"
      },
      "source": [
        "spark = SparkSession.builder.appName('ETL temp').getOrCreate()\n",
        "# assert spark.version >= '3.0' # make sure we have Spark 3.0+\n",
        "spark.sparkContext.setLogLevel('WARN')\n",
        "sc = spark.sparkContext\n",
        "data1= spark.read.json('/content/drive/My Drive/arsh_data/*.json')"
      ],
      "execution_count": null,
      "outputs": []
    },
    {
      "cell_type": "code",
      "metadata": {
        "id": "KOv_Pb_JZe6W"
      },
      "source": [
        "data1 = data1.withColumn('# incidents', lit(1)).cache()\n",
        "data1 = data1.na.drop(subset=[\"aircraft_category\",\"make\",\"operator_type\",\"phase_of_flight\",\"year_built\"])\n",
        "data1 = data1.withColumn(\"phase_of_flight\",regexp_replace(\"phase_of_flight\", \"'\", \"\")).withColumn(\"aircraft_category\",regexp_replace(\"aircraft_category\", \"'\", \"\")).withColumn(\"Province:\",regexp_replace(\"Province:\", \"'\", \"\")).withColumn(\"make\",regexp_replace(\"make\", \"'\", \"\")).withColumn(\"operator_type\",regexp_replace(\"operator_type\", \"'\", \"\")).withColumn(\"Occurrence Type:\",regexp_replace(\"Occurrence Type:\", \"'\", \"\"))"
      ],
      "execution_count": null,
      "outputs": []
    },
    {
      "cell_type": "code",
      "metadata": {
        "id": "Mh_p4xbUZkca"
      },
      "source": [
        "occ_cat=data1.select(data1['CADORS Number'],explode(data1['Occurrence Category']))\n",
        "occ_cat = occ_cat.toDF('CADORS Number','Occurrence Category')\n",
        "occ_cat=occ_cat.withColumnRenamed('CADORS Number','Cadors_number')\n",
        "occ_cat=occ_cat.withColumnRenamed('Occurrence Category','occurrence_category')\n",
        "occ_cat1= occ_cat.join(data1, data1['CADORS Number'] == occ_cat['Cadors_number'],how='left')\n"
      ],
      "execution_count": null,
      "outputs": []
    },
    {
      "cell_type": "code",
      "metadata": {
        "id": "U2YII08MZnRO"
      },
      "source": [
        "# 1\n",
        "date_df=data1.select(data1['CADORS Number'],data1['# incidents'],data1['Injuries:'],data1['Fatalities:'],data1['year'],data1['month'])\n",
        "date_df=date_df.dropDuplicates()\n",
        "# date_df = date_df.filter((date_df['year']!=\"NA\") & (date_df['month']!=\"NA\"))\n",
        "date_df= date_df.groupBy(\"year\",\"month\").sum(\"# incidents\",\"Injuries:\",\"Fatalities:\")"
      ],
      "execution_count": null,
      "outputs": []
    },
    {
      "cell_type": "code",
      "metadata": {
        "id": "2gNnaW0BZqci"
      },
      "source": [
        "#2 \n",
        "phaseofflight_df = data1.select(data1['CADORS Number'],data1['phase_of_flight'],data1['# incidents'],data1['Injuries:'],data1['Fatalities:'])\n",
        "phaseofflight_df = phaseofflight_df.dropDuplicates()\n",
        "phaseofflight_df = phaseofflight_df.filter(phaseofflight_df['phase_of_flight']!=\"NA\")\n",
        "phaseofflight_df=phaseofflight_df.groupBy( \"phase_of_flight\").sum (\"# incidents\",\"Injuries:\",\"Fatalities:\")"
      ],
      "execution_count": null,
      "outputs": []
    },
    {
      "cell_type": "code",
      "metadata": {
        "id": "TmQSgy0TZwpC"
      },
      "source": [
        "#3\n",
        "aircraftcategory_df = data1.select(data1['CADORS Number'],data1['aircraft_category'],data1['# incidents'],data1['Injuries:'],data1['Fatalities:'])\n",
        "aircraftcategory_df = aircraftcategory_df.dropDuplicates()\n",
        "aircraftcategory_df = aircraftcategory_df.filter(aircraftcategory_df['aircraft_category']!=\"NA\")\n",
        "aircraftcategory_df = aircraftcategory_df.groupBy( \"aircraft_category\").sum (\"# incidents\",\"Injuries:\",\"Fatalities:\")"
      ],
      "execution_count": null,
      "outputs": []
    },
    {
      "cell_type": "code",
      "metadata": {
        "id": "JTKU5IQtZy7I"
      },
      "source": [
        "#4\n",
        "occcat_df = occ_cat1.select(occ_cat1['CADORS Number'],occ_cat1['occurrence_category'],occ_cat1['# incidents'],occ_cat1['Injuries:'],occ_cat1['Fatalities:'])\n",
        "occcat_df = occcat_df.dropDuplicates()\n",
        "occcat_df = occcat_df.filter(occcat_df['occurrence_category']!=\"NA\")\n",
        "occcat_df=occcat_df.groupBy('occurrence_category').sum('# incidents',\"Injuries:\",\"Fatalities:\")"
      ],
      "execution_count": null,
      "outputs": []
    },
    {
      "cell_type": "code",
      "metadata": {
        "id": "e9dEH0uBZ1wu"
      },
      "source": [
        "\n",
        "#5\n",
        "province_df = data1.select(data1['CADORS Number'],data1['Province:'],data1['# incidents'],data1['Injuries:'],data1['Fatalities:'],data1['Country:'])\n",
        "province_df = province_df.dropDuplicates()\n",
        "province_df = province_df.filter(province_df['Province:']!=\"NA\").filter(province_df['Country:']!=\"NA\")\n",
        "province_df=province_df.groupBy('Province:','Country:').sum('# incidents',\"Injuries:\",\"Fatalities:\")\n",
        "\n",
        "#6\n",
        "CAprovince_df = data1.filter(province_df['Country:']=='Canada')\n",
        "CAprovince_df = CAprovince_df.dropDuplicates()\n",
        "CAprovince_df = CAprovince_df.filter(CAprovince_df['Province:']!=\"NA\").filter(CAprovince_df['Country:']!=\"NA\")\n",
        "CAprovince_df=CAprovince_df.groupBy('Province:','Country:').sum('# incidents',\"Injuries:\",\"Fatalities:\")\n",
        "\n"
      ],
      "execution_count": null,
      "outputs": []
    },
    {
      "cell_type": "code",
      "metadata": {
        "id": "gnQhWjm7Z4cQ"
      },
      "source": [
        "#7\n",
        "make_df = data1.select(data1['CADORS Number'],data1['make'],data1['# incidents'],data1['Injuries:'],data1['Fatalities:'])\n",
        "make_df = make_df.dropDuplicates()\n",
        "# make_df = make_df.filter(make_df['make']!=\"NA\")\n",
        "make_df = make_df.groupBy('make').sum('# incidents',\"Injuries:\",\"Fatalities:\")\n",
        "make_df = make_df.withColumn(\"make\",regexp_replace(\"make\", \"'\", \"\"))"
      ],
      "execution_count": null,
      "outputs": []
    },
    {
      "cell_type": "code",
      "metadata": {
        "id": "EWapOMd2Z66i"
      },
      "source": [
        "#8\n",
        "yearbuilt_df = data1.select(data1['CADORS Number'],data1['year_built'],data1['# incidents'],data1['Injuries:'],data1['Fatalities:'])\n",
        "yearbuilt_df = yearbuilt_df.dropDuplicates()\n",
        "# yearbuilt_df = yearbuilt_df.filter(yearbuilt_df['year_built']!=\"NA\")\n",
        "yearbuilt_df=yearbuilt_df.groupBy('year_built').sum('# incidents',\"Injuries:\",\"Fatalities:\")"
      ],
      "execution_count": null,
      "outputs": []
    },
    {
      "cell_type": "code",
      "metadata": {
        "id": "XX_2k1NyZ-bd"
      },
      "source": [
        "#9\n",
        "operatortype_df = data1.select(data1['CADORS Number'],data1['operator_type'],data1['# incidents'],data1['Injuries:'],data1['Fatalities:'])\n",
        "operatortype_df = operatortype_df.dropDuplicates()\n",
        "operatortype_df=operatortype_df.groupBy('operator_type').sum('# incidents',\"Injuries:\",\"Fatalities:\")"
      ],
      "execution_count": null,
      "outputs": []
    },
    {
      "cell_type": "code",
      "metadata": {
        "id": "HmZC8OE6aAl6"
      },
      "source": [
        "#10\n",
        "latlong_df = data1.select(data1['CADORS Number'],data1['longitude'],data1['latitude'],data1['# incidents'],data1['Injuries:'],data1['Fatalities:'])\n",
        "latlong_df = latlong_df.dropDuplicates()\n",
        "latlong_df=latlong_df.groupBy('latitude','longitude').sum('# incidents',\"Injuries:\",\"Fatalities:\")"
      ],
      "execution_count": null,
      "outputs": []
    },
    {
      "cell_type": "code",
      "metadata": {
        "id": "FqX3hguvaClj"
      },
      "source": [
        "#11\n",
        "occtype_df = data1.select(data1['CADORS Number'],data1['Occurrence Type:'],data1['# incidents'],data1['Injuries:'],data1['Fatalities:'])\n",
        "occtype_df = occtype_df.dropDuplicates()\n",
        "occtype_df = occtype_df.groupBy('Occurrence Type:').sum('# incidents',\"Injuries:\",\"Fatalities:\")"
      ],
      "execution_count": null,
      "outputs": []
    },
    {
      "cell_type": "code",
      "metadata": {
        "id": "o1fW14iwFSZY"
      },
      "source": [
        "#12\n",
        "mappers_df= data1.select(data1['CADORS Number'],data1['Country:'],data1['Province:'],data1['Fatalities:'],data1['Injuries:'],data1['# incidents'],data1['year'],data1['month'],data1['longitude'],data1['latitude'])\n",
        "mappers_df = mappers_df.filter(mappers_df['Country:']=='Canada')\n",
        "mappers_df = mappers_df.dropDuplicates()\n",
        "mappers_df = mappers_df.filter(mappers_df['Province:']!=\"NA\").filter(mappers_df['Country:']!=\"NA\")\n",
        "mappers_df = mappers_df.groupby('Province:','year','month','Country:','longitude','latitude').sum('# incidents',\"Injuries:\",\"Fatalities:\")\n",
        "\n",
        "#13\n",
        "mappercountry_df = data1.dropDuplicates()\n",
        "mappercountry_df = mappercountry_df.filter(mappercountry_df['Province:']!=\"NA\").filter(mappercountry_df['Country:']!=\"NA\")\n",
        "mappercountry_df = mappercountry_df.groupby('Country:','Province:','year','month','longitude','latitude').sum('# incidents',\"Injuries:\",\"Fatalities:\")"
      ],
      "execution_count": null,
      "outputs": []
    },
    {
      "cell_type": "code",
      "metadata": {
        "id": "-GXq_MHvHHk_"
      },
      "source": [
        "#14\n",
        "CAlatlong_df = data1.select(data1['CADORS Number'],data1['longitude'],data1['latitude'],data1['# incidents'],data1['Injuries:'],data1['Fatalities:'],data1['Country:'])\n",
        "CAlatlong_df = CAlatlong_df.filter(CAlatlong_df['Country:']=='Canada')\n",
        "\n",
        "CAlatlong_df = CAlatlong_df.dropDuplicates()\n",
        "CAlatlong_df=CAlatlong_df.groupBy('latitude','longitude','Country:').sum('# incidents',\"Injuries:\",\"Fatalities:\")"
      ],
      "execution_count": null,
      "outputs": []
    },
    {
      "cell_type": "code",
      "metadata": {
        "id": "TZEvEFfuaFFy"
      },
      "source": [
        "date_df.coalesce(1).write.csv(\"date_df.csv\",header=True)\n",
        "phaseofflight_df.coalesce(1).write.csv(\"phaseofflight_df.csv\",header=True)\n",
        "aircraftcategory_df.coalesce(1).write.csv(\"aircraftcategory_df.csv\",header=True)\n",
        "occcat_df.coalesce(1).write.csv(\"occcat_df.csv\",header=True)\n",
        "province_df.coalesce(1).write.csv(\"province_df.csv\",header=True)\n",
        "CAprovince_df.coalesce(1).write.csv(\"CAprovince_df.csv\",header=True)\n",
        "make_df.coalesce(1).write.csv(\"make_df.csv\",header=True)\n",
        "yearbuilt_df.coalesce(1).write.csv(\"yearbuilt_df.csv\",header=True)\n",
        "operatortype_df.coalesce(1).write.csv(\"operatortype_df.csv\",header=True)\n",
        "latlong_df.coalesce(1).write.csv(\"latlong_df.csv\",header=True)\n",
        "occtype_df.coalesce(1).write.csv(\"occtype_df.csv\",header=True)\n",
        "mappers_df.coalesce(1).write.csv(\"mappers_df.csv\",header=True)\n",
        "mappercountry_df.coalesce(1).write.csv(\"mappercountry_df.csv\",header=True)\n",
        "CAlatlong_df.coalesce(1).write.csv(\"CAlatlong_df.csv\",header=True)\n",
        "\n"
      ],
      "execution_count": null,
      "outputs": []
    }
  ]
}