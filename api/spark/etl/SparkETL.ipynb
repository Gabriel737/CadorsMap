{
  "nbformat": 4,
  "nbformat_minor": 0,
  "metadata": {
    "colab": {
      "name": "SparkETL.ipynb",
      "provenance": [],
      "collapsed_sections": []
    },
    "kernelspec": {
      "name": "python3",
      "display_name": "Python 3"
    },
    "language_info": {
      "name": "python"
    }
  },
  "cells": [
    {
      "cell_type": "markdown",
      "source": [
        "MISSING VALUE ANALYSIS"
      ],
      "metadata": {
        "id": "BWDsPFNVs9RA"
      }
    },
    {
      "cell_type": "code",
      "metadata": {
        "id": "z65-qH4cYn1J"
      },
      "source": [
        "pip install pyspark"
      ],
      "execution_count": null,
      "outputs": []
    },
    {
      "cell_type": "code",
      "metadata": {
        "id": "T92FtZAIYog9"
      },
      "source": [
        "import sys\n",
        "from pyspark.sql import SparkSession, functions, types\n",
        "from pyspark.context import SparkContext\n",
        "from pyspark.sql.types import IntegerType,StringType\n",
        "from pyspark.sql.functions import *\n",
        "from pyspark.sql.functions import isnan, when, count, col\n",
        "#ML Algorithms\n",
        "from pyspark.ml.clustering import KMeans\n",
        "from pyspark.ml.evaluation import ClusteringEvaluator\n",
        "from pyspark.ml import Pipeline\n",
        "from pyspark.ml.feature import StringIndexer, VectorAssembler, SQLTransformer\n",
        "from pyspark.ml import Pipeline\n",
        "from pyspark.ml.classification import LogisticRegression\n",
        "from pyspark.ml.evaluation import BinaryClassificationEvaluator\n",
        "from pyspark.mllib.evaluation import BinaryClassificationMetrics\n",
        "from pyspark.ml.classification import RandomForestClassifier\n",
        "from pyspark.ml.classification import LinearSVC"
      ],
      "execution_count": null,
      "outputs": []
    },
    {
      "cell_type": "code",
      "metadata": {
        "id": "IM0rtYg5YovL"
      },
      "source": [
        "from google.colab import drive\n",
        "drive.mount('/content/gdrive')\n",
        "path_prefix = \"/content/gdrive/MyDrive/cadorsdata\"\n",
        "\n",
        "import sys\n",
        "sys.path.insert(1, path_prefix)"
      ],
      "execution_count": null,
      "outputs": []
    },
    {
      "cell_type": "code",
      "metadata": {
        "id": "ga1i0_RhYo5H"
      },
      "source": [
        "import os\n",
        "totalFiles=0\n",
        "for base, dirs, files in os.walk('/content/gdrive/MyDrive/cadorsdata'):\n",
        "    print('Searching in : ',base)\n",
        "    for Files in files:\n",
        "        totalFiles += 1\n",
        "print(totalFiles)"
      ],
      "execution_count": null,
      "outputs": []
    },
    {
      "cell_type": "code",
      "metadata": {
        "id": "EQqXdxiSYpAW"
      },
      "source": [
        "spark = SparkSession.builder.appName('ETL temp').getOrCreate()\n",
        "# assert spark.version >= '3.0' # make sure we have Spark 3.0+\n",
        "spark.sparkContext.setLogLevel('WARN')\n",
        "sc = spark.sparkContext"
      ],
      "execution_count": null,
      "outputs": []
    },
    {
      "cell_type": "code",
      "metadata": {
        "id": "dadDy5A9YxEX"
      },
      "source": [
        "df = spark.read.json('/content/gdrive/MyDrive/cadorsdata/*')"
      ],
      "execution_count": null,
      "outputs": []
    },
    {
      "cell_type": "code",
      "metadata": {
        "id": "CRDrTlCEYVg0"
      },
      "source": [
        "############ Missing value analysis ################\n",
        "\n",
        "###1) Occurence Category--> 1139 distinct categories with no NA's\n",
        "transform_udf=udf(merge,StringType())\n",
        "temp=df.withColumn('Occurrence Category_merged',transform_udf(col('Occurrence Category')))\n",
        "print(temp.head(10))\n",
        "print(temp.filter(col('Occurrence Category_merged')=='NA').count())\n",
        "print(temp.filter(col('Occurrence Category_merged')=='').count())\n",
        "temp=temp.select(['Occurrence Category_merged']).distinct()\n",
        "print(temp.count())\n",
        "# print(temp.collect())\n",
        "\n",
        "###2) Occurence Event info--> 144 distinct occurence events combinations with 8021 NA's\n",
        "transform_udf=udf(merge,StringType())\n",
        "temp=df.withColumn('Occurrence Event Information_merged',transform_udf(col('Occurrence Event Information')))\n",
        "print(temp.head(10))\n",
        "print(temp.filter(col('Occurrence Event Information_merged')=='NA').count())\n",
        "print(temp.filter(col('Occurrence Event Information_merged')=='').count())\n",
        "temp=temp.select(['Occurrence Event Information_merged']).distinct()\n",
        "print(temp.count())\n",
        "# print(temp.collect())\n",
        "\n",
        "##3) Month ---- No bad data in date\n",
        "temp=df.select(['Occurrence Date:'])\n",
        "print(temp.select([count(when(col(c).contains('None') | \\\n",
        "                            col(c).contains('NULL') | \\\n",
        "                            (col(c) == '' ) | \\\n",
        "                            col(c).isNull() | \\\n",
        "                            isnan(c), c \n",
        "                          )).alias(c)\n",
        "                    for c in temp.columns]).show())\n",
        "print(temp.head(1))\n",
        "print(temp.select(col('Occurrence Date:'),month(to_date(col('Occurrence Date:'),\"yyyy-MM-dd\")).alias('month')).show())\n",
        "\n",
        "##4) Province ---- 243 bad data , 41 distinct provinces\n",
        "temp=df.select(['Province:','TC Region:'])\n",
        "temp=temp.withColumn(\"GR\",when(col('Province:')!='',col('Province:')).otherwise(col('TC Region:')))\n",
        "\n",
        "print(temp.distinct().count())\n",
        "# print(temp.collect())\n",
        "print(temp.select([count(when(col(c).contains('None'),c)).alias(c)\n",
        "                    for c in temp.columns]).show())\n",
        "print(temp.select([count(when(col(c).contains('NULL'),c)).alias(c)\n",
        "                    for c in temp.columns]).show())\n",
        "print(temp.select([count(when(col(c) == '',c)).alias(c)\n",
        "                    for c in temp.columns]).show())\n",
        "print(temp.select([count(when(col(c).isNull(),c)).alias(c)\n",
        "                    for c in temp.columns]).show())\n",
        "print(temp.select([count(when(isnan(c),c)).alias(c)\n",
        "                    for c in temp.columns]).show())\n",
        "\n",
        "#5) Day or Night ---- Not taking this rather taking hour of incident . Hour\n",
        "print(temp.select([count(when(col(c) == '',c)).alias(c)\n",
        "                    for c in temp.columns]).show())\n",
        "\n",
        "temp=df.select(['Occurrence Time:','Day or Night:'])\n",
        "temp=temp.withColumn('hour',hour(to_timestamp(substring(col('Occurrence Time:'),1,4),'HHmm')))\n",
        "temp=temp.withColumn('timestamp',to_timestamp(substring(col('Occurrence Time:'),1,4),'HHmm'))\n",
        "temp=temp.filter(temp['Day or Night:']=='night-time')\n",
        "print(temp.groupby('Day or Night:').agg(max('timestamp')).show())\n",
        "print(temp.groupby('Day or Night:').agg(min('timestamp')).show())\n",
        "\n",
        "print(temp.show())\n",
        "\n",
        "\n",
        "##6) Aircraft Features, only 8369 has aircraft involved\n",
        "\n",
        "featureset2 = aircraft_information1.groupBy('CADORS Number').agg(collect_list('flight_rule').alias('flight_rule'),collect_list('model').alias('model'),collect_list('year_built').alias('year_built'),collect_list('amateur_built').alias('amateur_built'),collect_list('gear_type').alias('gear_type'),collect_list('phase_of_flight').alias('phase_of_flight'),collect_list('damage').alias('damage'),collect_list('operator_type').alias('operator_type'))\n",
        "# print(featureset2.count())\n",
        "featureset2=featureset2.withColumn('flight_rule_merged',transform_udf(col('flight_rule'))).withColumn('model_merged',transform_udf(col('model'))).withColumn('year_built_merged',transform_udf(col('year_built'))).withColumn('amateur_built_merged',transform_udf(col('amateur_built'))).withColumn('gear_type_merged',transform_udf(col('gear_type'))).withColumn('phase_of_flight_merged',transform_udf(col('phase_of_flight'))).withColumn('damage_merged',transform_udf(col('damage'))).withColumn('operator_type_merged',transform_udf(col('operator_type')))\n",
        "# print(featureset2.count())\n",
        "print(featureset2.head(2))\n",
        "temp=featureset2.select(['flight_rule_merged','model_merged','year_built_merged','amateur_built_merged','gear_type_merged','phase_of_flight_merged','damage_merged','operator_type_merged'])\n",
        "print(temp.select([count(when(col(c) == '',c)).alias(c)\n",
        "                    for c in temp.columns]).show())\n",
        "\n",
        "temp=temp.select([when(col(c)==\"\",'NA').otherwise(col(c)).alias(c) for c in temp.columns])\n",
        "print(temp.head(2))\n",
        "print(temp.select([count(when(col(c) == '',c)).alias(c)\n",
        "                    for c in temp.columns]).show())\n",
        "print(temp.select([count(when(col(c) == 'NA',c)).alias(c)\n",
        "                    for c in temp.columns]).show())\n",
        "                   \n",
        "##7) Weather Features, out of 9000, 6200 if prcp and snow kept , 2500 if wdir is added ################################\n",
        "\n",
        "temp=weather_df.select(['CADORS Number','prcp','snow'])\n",
        "# temp=weather_df.select(['CADORS Number','prcp','snow','wdir','wspd','wpgt'])\n",
        "print(temp.count())\n",
        "# temp=temp.na.drop()\n",
        "temp=temp.dropna(how='any')\n",
        "print(temp.count())\n",
        "print(temp.select([count(when(col(c).isNull(),c)).alias(c)\n",
        "                    for c in temp.columns]).show())\n",
        "print(temp.select([count(when(isnan(c),c)).alias(c)\n",
        "                    for c in temp.columns]).show())\n",
        "print(temp.head(2))"
      ],
      "execution_count": null,
      "outputs": []
    },
    {
      "cell_type": "markdown",
      "source": [
        "CREATING AND WRITING INTERMEDIATRY SPARK DATAFRAMES\n"
      ],
      "metadata": {
        "id": "sYGuuBUBtCfn"
      }
    },
    {
      "cell_type": "code",
      "source": [
        ""
      ],
      "metadata": {
        "id": "um-3HrhqtI_A"
      },
      "execution_count": null,
      "outputs": []
    },
    {
      "cell_type": "code",
      "metadata": {
        "id": "FwSQMBIUYTKs"
      },
      "source": [
        "import sys\n",
        "from pyspark.sql import SparkSession, functions, types\n",
        "from pyspark.context import SparkContext\n",
        "from pyspark.sql.types import IntegerType,StringType\n",
        "from pyspark.sql.functions import *\n",
        "from pyspark.sql.functions import isnan, when, count, col\n",
        "#ML Algorithms\n",
        "from pyspark.ml.clustering import KMeans\n",
        "from pyspark.ml.evaluation import ClusteringEvaluator\n",
        "from pyspark.ml import Pipeline\n",
        "from pyspark.ml.feature import StringIndexer, VectorAssembler, SQLTransformer\n",
        "from pyspark.ml import Pipeline\n",
        "from pyspark.ml.classification import LogisticRegression\n",
        "from pyspark.ml.evaluation import BinaryClassificationEvaluator\n",
        "from pyspark.mllib.evaluation import BinaryClassificationMetrics\n",
        "from pyspark.ml.classification import RandomForestClassifier\n",
        "from pyspark.ml.classification import LinearSVC"
      ],
      "execution_count": null,
      "outputs": []
    },
    {
      "cell_type": "code",
      "metadata": {
        "colab": {
          "base_uri": "https://localhost:8080/"
        },
        "id": "B3bIPbCNJF3e",
        "outputId": "198c2c21-d3d4-492b-db87-5920a7e2625c"
      },
      "source": [
        "from google.colab import drive\n",
        "drive.mount('/content/gdrive')\n",
        "path_prefix = \"/content/gdrive/MyDrive/cadorsdata\"\n",
        "\n",
        "import sys\n",
        "sys.path.insert(1, path_prefix)"
      ],
      "execution_count": null,
      "outputs": [
        {
          "output_type": "stream",
          "name": "stdout",
          "text": [
            "Mounted at /content/gdrive\n"
          ]
        }
      ]
    },
    {
      "cell_type": "code",
      "metadata": {
        "colab": {
          "base_uri": "https://localhost:8080/"
        },
        "id": "Ng9Vl7R3Sb5o",
        "outputId": "b504f237-4933-4a50-f32f-518b67e21c93"
      },
      "source": [
        "import os\n",
        "totalFiles=0\n",
        "for base, dirs, files in os.walk('/content/gdrive/MyDrive/cadorsdata'):\n",
        "    print('Searching in : ',base)\n",
        "    for Files in files:\n",
        "        totalFiles += 1\n",
        "print(totalFiles)"
      ],
      "execution_count": null,
      "outputs": [
        {
          "output_type": "stream",
          "name": "stdout",
          "text": [
            "Searching in :  /content/gdrive/MyDrive/cadorsdata\n",
            "4066\n"
          ]
        }
      ]
    },
    {
      "cell_type": "code",
      "metadata": {
        "id": "f8N-WojhCObj"
      },
      "source": [
        "spark = SparkSession.builder.appName('ETL temp').getOrCreate()\n",
        "# assert spark.version >= '3.0' # make sure we have Spark 3.0+\n",
        "spark.sparkContext.setLogLevel('WARN')\n",
        "sc = spark.sparkContext"
      ],
      "execution_count": null,
      "outputs": []
    },
    {
      "cell_type": "code",
      "metadata": {
        "id": "lZ7omrSv1xja"
      },
      "source": [
        "raw_data = spark.read.json('/content/gdrive/MyDrive/cadorsdata/*')\n",
        "# raw_data = spark.read.json('/content/gdrive/MyDrive/cadorsdata/wx-ffe01746-5818-4e1a-b73d-236ab52fb385.json')"
      ],
      "execution_count": null,
      "outputs": []
    },
    {
      "cell_type": "code",
      "metadata": {
        "id": "0ABr3af-UXvF"
      },
      "source": [
        "raw_data1=raw_data.dropDuplicates()\n",
        "raw_data2=raw_data1.filter(raw_data1['CADORS Number']!='null')\n",
        "raw_data3=raw_data2.filter(raw_data2['latitude'].isNull()=='False')"
      ],
      "execution_count": null,
      "outputs": []
    },
    {
      "cell_type": "code",
      "metadata": {
        "id": "957quBNUWIeE"
      },
      "source": [
        "# raw_data3.select(['CADORS Number']).distinct().count()\n",
        "# raw_data3.count()\n",
        "# temp=raw_data3.groupBy(raw_data3['CADORS Number']).agg(count(\"*\").alias('cnt'))\n",
        "# temp.sort(col('cnt').desc()).show()"
      ],
      "execution_count": null,
      "outputs": []
    },
    {
      "cell_type": "code",
      "metadata": {
        "colab": {
          "base_uri": "https://localhost:8080/"
        },
        "id": "lbv9nhvcd3W6",
        "outputId": "48046afd-46f7-4d41-fcd6-fcef7574ff42"
      },
      "source": [
        "print(raw_data3.count())"
      ],
      "execution_count": null,
      "outputs": [
        {
          "output_type": "stream",
          "name": "stdout",
          "text": [
            "284365\n"
          ]
        }
      ]
    },
    {
      "cell_type": "code",
      "metadata": {
        "colab": {
          "base_uri": "https://localhost:8080/"
        },
        "id": "rF1S8XwPoQHr",
        "outputId": "90378415-293f-44cc-fedb-92b9f15a271a"
      },
      "source": [
        "raw_data3.printSchema()"
      ],
      "execution_count": null,
      "outputs": [
        {
          "output_type": "stream",
          "name": "stdout",
          "text": [
            "root\n",
            " |-- AOR Number:: string (nullable = true)\n",
            " |-- Aerodrome Name:: string (nullable = true)\n",
            " |-- Aircraft Information: struct (nullable = true)\n",
            " |    |-- Aircraft Category:: array (nullable = true)\n",
            " |    |    |-- element: string (containsNull = true)\n",
            " |    |-- Aircraft Event Information: array (nullable = true)\n",
            " |    |    |-- element: array (containsNull = true)\n",
            " |    |    |    |-- element: string (containsNull = true)\n",
            " |    |-- Amateur Built:: array (nullable = true)\n",
            " |    |    |-- element: string (containsNull = true)\n",
            " |    |-- CARs Subpart:: array (nullable = true)\n",
            " |    |    |-- element: string (containsNull = true)\n",
            " |    |-- Country of Registration:: array (nullable = true)\n",
            " |    |    |-- element: string (containsNull = true)\n",
            " |    |-- Damage:: array (nullable = true)\n",
            " |    |    |-- element: string (containsNull = true)\n",
            " |    |-- Engine Make:: array (nullable = true)\n",
            " |    |    |-- element: string (containsNull = true)\n",
            " |    |-- Engine Model:: array (nullable = true)\n",
            " |    |    |-- element: string (containsNull = true)\n",
            " |    |-- Engine Type:: array (nullable = true)\n",
            " |    |    |-- element: string (containsNull = true)\n",
            " |    |-- Flight #:: array (nullable = true)\n",
            " |    |    |-- element: string (containsNull = true)\n",
            " |    |-- Flight Rule:: array (nullable = true)\n",
            " |    |    |-- element: string (containsNull = true)\n",
            " |    |-- Foreign Registration:: array (nullable = true)\n",
            " |    |    |-- element: string (containsNull = true)\n",
            " |    |-- Gear Type:: array (nullable = true)\n",
            " |    |    |-- element: string (containsNull = true)\n",
            " |    |-- Make:: array (nullable = true)\n",
            " |    |    |-- element: string (containsNull = true)\n",
            " |    |-- Model:: array (nullable = true)\n",
            " |    |    |-- element: string (containsNull = true)\n",
            " |    |-- Operator Type:: array (nullable = true)\n",
            " |    |    |-- element: string (containsNull = true)\n",
            " |    |-- Operator:: array (nullable = true)\n",
            " |    |    |-- element: string (containsNull = true)\n",
            " |    |-- Owner:: array (nullable = true)\n",
            " |    |    |-- element: string (containsNull = true)\n",
            " |    |-- Phase of Flight:: array (nullable = true)\n",
            " |    |    |-- element: string (containsNull = true)\n",
            " |    |-- Registration Mark:: array (nullable = true)\n",
            " |    |    |-- element: string (containsNull = true)\n",
            " |    |-- Year Built:: array (nullable = true)\n",
            " |    |    |-- element: string (containsNull = true)\n",
            " |-- CADORS Number: string (nullable = true)\n",
            " |-- Canadian Aerodrome ID:: string (nullable = true)\n",
            " |-- Country:: string (nullable = true)\n",
            " |-- Day Or Night:: string (nullable = true)\n",
            " |-- Fatalities:: string (nullable = true)\n",
            " |-- Injuries:: string (nullable = true)\n",
            " |-- Occurrence Category: array (nullable = true)\n",
            " |    |-- element: string (containsNull = true)\n",
            " |-- Occurrence Date:: string (nullable = true)\n",
            " |-- Occurrence Event Information: array (nullable = true)\n",
            " |    |-- element: string (containsNull = true)\n",
            " |-- Occurrence Location:: string (nullable = true)\n",
            " |-- Occurrence Summary: array (nullable = true)\n",
            " |    |-- element: struct (containsNull = true)\n",
            " |    |    |-- Date: string (nullable = true)\n",
            " |    |    |-- Summary: string (nullable = true)\n",
            " |-- Occurrence Time:: string (nullable = true)\n",
            " |-- Occurrence Type:: string (nullable = true)\n",
            " |-- Province:: string (nullable = true)\n",
            " |-- Reported By:: string (nullable = true)\n",
            " |-- TC Region:: string (nullable = true)\n",
            " |-- TSB Class Of Investigation:: string (nullable = true)\n",
            " |-- TSB Occurrence No:: string (nullable = true)\n",
            " |-- World Area:: string (nullable = true)\n",
            " |-- _corrupt_record: string (nullable = true)\n",
            " |-- latitude: double (nullable = true)\n",
            " |-- longitude: double (nullable = true)\n",
            " |-- record_no: long (nullable = true)\n",
            " |-- weather: struct (nullable = true)\n",
            " |    |-- prcp: double (nullable = true)\n",
            " |    |-- pres: double (nullable = true)\n",
            " |    |-- snow: double (nullable = true)\n",
            " |    |-- tavg: double (nullable = true)\n",
            " |    |-- tmax: double (nullable = true)\n",
            " |    |-- tmin: double (nullable = true)\n",
            " |    |-- tsun: double (nullable = true)\n",
            " |    |-- wdir: double (nullable = true)\n",
            " |    |-- wpgt: double (nullable = true)\n",
            " |    |-- wspd: double (nullable = true)\n",
            "\n"
          ]
        }
      ]
    },
    {
      "cell_type": "code",
      "metadata": {
        "id": "Z86P0Tu3Y6Lb"
      },
      "source": [
        "#Remove if this full data to be considered\n",
        "# df=raw_data.filter(col('Occurrence Type:')=='Accident').cache()\n",
        "df=raw_data3.select(['CADORS Number','Occurrence Type:','Occurrence Category','Occurrence Event Information','Occurrence Date:','Country:','Occurrence Time:','Fatalities:','Injuries:','Occurrence Location:','Province:','TC Region:','latitude','longitude','Aircraft Information'])"
      ],
      "execution_count": null,
      "outputs": []
    },
    {
      "cell_type": "code",
      "metadata": {
        "id": "9rki5f86Y_XM"
      },
      "source": [
        "df = df.withColumn('Injuries:', df['Injuries:'].cast(IntegerType()))\n",
        "df = df.withColumn('Fatalities:', df['Fatalities:'].cast(IntegerType()))\n",
        "df = df.withColumn('month',month(to_date(col('Occurrence Date:'),\"yyyy-MM-dd\")))\n",
        "df = df.withColumn('year',year(to_date(col('Occurrence Date:'),\"yyyy-MM-dd\")))\n",
        "df = df.withColumn(\"GR\",when(col('Province:')!='',col('Province:')).otherwise(col('TC Region:')))\n",
        "df = df.filter(df['Occurrence Time:']!='')\n",
        "df = df.withColumn('hour',hour(to_timestamp(substring(col('Occurrence Time:'),1,4),'HHmm')))\n",
        "df = df.withColumn(\"label\", when(col('Fatalities:')+col('Injuries:')>1,1).otherwise(0))"
      ],
      "execution_count": null,
      "outputs": []
    },
    {
      "cell_type": "code",
      "metadata": {
        "colab": {
          "base_uri": "https://localhost:8080/"
        },
        "id": "3mcDKr7BYeMz",
        "outputId": "c2c87a7b-78da-4468-f0ec-bf2ddb60b5ce"
      },
      "source": [
        "#Making Aircraft Dataframe\n",
        "af=df.select(df['CADORS Number'],df['Aircraft Information']).cache()\n",
        "af=af.withColumn('Flight Rule',af['Aircraft Information']['Flight Rule:']).withColumn('Model',af['Aircraft Information']['Model:']).withColumn('Registration Mark',af['Aircraft Information']['Registration Mark:']).withColumn('Aircraft Category',af['Aircraft Information']['Aircraft Category:']).withColumn('Make',af['Aircraft Information']['Make:']).withColumn('Year Built',af['Aircraft Information']['Year Built:']).withColumn('Amateur Built',af['Aircraft Information']['Amateur Built:']).withColumn('Gear Type',af['Aircraft Information']['Gear Type:']).withColumn('Phase of Flight',af['Aircraft Information']['Phase of Flight:']).withColumn('Damage',af['Aircraft Information']['Damage:']).withColumn('Operator Type',af['Aircraft Information']['Operator Type:'])\n",
        "ai1=af.select(af['CADORS Number'],posexplode(af['Registration Mark']))\n",
        "ai2=af.select(af['CADORS Number'],posexplode(af['Model']))\n",
        "ai5=af.select(af['CADORS Number'],posexplode(af['Flight Rule']))\n",
        "ai6=af.select(af['CADORS Number'],posexplode(af['Aircraft Category']))\n",
        "ai8=af.select(af['CADORS Number'],posexplode(af['Make']))\n",
        "ai10=af.select(af['CADORS Number'],posexplode(af['Year Built']))\n",
        "ai11=af.select(af['CADORS Number'],posexplode(af['Amateur Built']))\n",
        "ai15=af.select(af['CADORS Number'],posexplode(af['Gear Type']))\n",
        "ai16=af.select(af['CADORS Number'],posexplode(af['Phase of Flight']))\n",
        "ai17=af.select(af['CADORS Number'],posexplode(af['Damage']))\n",
        "ai19=af.select(af['CADORS Number'],posexplode(af['Operator Type']))\n",
        "aircraft_information = ai1.join(ai2, ['pos','CADORS Number']).join(ai5, ['pos','CADORS Number']).join(ai6, ['pos','CADORS Number']).join(ai8, ['pos','CADORS Number']).join(ai10, ['pos','CADORS Number']).join(ai11, ['pos','CADORS Number']).join(ai15, ['pos','CADORS Number']).join(ai16, ['pos','CADORS Number']).join(ai17, ['pos','CADORS Number']).join(ai19, ['pos','CADORS Number'])\n",
        "# print(aircraft_information.show())\n",
        "aircraft_information1 = aircraft_information.toDF('pos','CADORS Number','registration_mark','model','flight_rule','aircraft_category','make','year_built','amateur_built','gear_type','phase_of_flight','damage','operator_type')\n",
        "# print(aircraft_information1.show())\n",
        "aircraft_df=df.select(['CADORS Number','Country:','Occurrence Type:','Occurrence Category','Occurrence Event Information','Occurrence Date:','Fatalities:','Injuries:','Occurrence Location:','Province:','GR','hour','month','label','latitude','longitude']).join(aircraft_information1,['CADORS Number'],how='left')\n",
        "print(aircraft_df.show(5))"
      ],
      "execution_count": null,
      "outputs": [
        {
          "output_type": "stream",
          "name": "stdout",
          "text": [
            "+-------------+--------+----------------+--------------------+----------------------------+----------------+-----------+---------+--------------------+---------+-------+----+-----+-----+----------+-----------+----+-----------------+---------+-----------+-----------------+-----------+----------+-------------+---------+---------------+-------+-------------+\n",
            "|CADORS Number|Country:|Occurrence Type:| Occurrence Category|Occurrence Event Information|Occurrence Date:|Fatalities:|Injuries:|Occurrence Location:|Province:|     GR|hour|month|label|  latitude|  longitude| pos|registration_mark|    model|flight_rule|aircraft_category|       make|year_built|amateur_built|gear_type|phase_of_flight| damage|operator_type|\n",
            "+-------------+--------+----------------+--------------------+----------------------------+----------------+-----------+---------+--------------------+---------+-------+----+-----+-----+----------+-----------+----+-----------------+---------+-----------+-----------------+-----------+----------+-------------+---------+---------------+-------+-------------+\n",
            "|    2000Q0436|  Canada|        Incident|    [ATM/CNS, Other]|        [ATS operating ir...|      2000-08-04|          0|     null|5 milles Ouest de...|   Quebec| Quebec|  11|    8|    0|45.7052945|-73.9560698|   0|                 |DHC 8 102|           |        Aeroplane|DEHAVILLAND|          |           No|     Land|         Cruise|Unknown|   Commercial|\n",
            "|    2000Q0501|  Canada|        Incident|           [Medical]|                          []|      2000-09-04|          0|     null|Dans la région de...|   Quebec| Quebec|  14|    9|    0|45.5052895|-73.5640756|   0|             GTSV|  757 28A|           |        Aeroplane|     BOEING|      1993|           No|     Land|         Cruise|Unknown|   Commercial|\n",
            "|    2000Q0590|  Canada|        Incident|             [Other]|                          []|      2000-10-06|          0|     null|Entre Toronto et ...|  Ontario|Ontario|   1|   10|    0|43.6969462|-79.5714473|   0|                 |   L 1011|           |        Aeroplane|   LOCKHEED|          |           No|     Land|          Climb|Unknown|   Commercial|\n",
            "|    2000Q0679|  Canada|        Incident|[Runway incursion...|        [Incursion - runw...|      2000-11-10|          0|        0|                    |   Quebec| Quebec|   7|   11|    0|52.4760892|-71.8258668|null|             null|     null|       null|             null|       null|      null|         null|     null|           null|   null|         null|\n",
            "|    2001Q0082|  Canada|        Incident|[Fire/smoke (non-...|                          []|      2001-01-31|          0|     null|       Dorval (CYUL)|   Quebec| Quebec|  23|    1|    0|45.4453082|-73.7510888|   0|             FTLW|   DC9 32|           |        Aeroplane|    DOUGLAS|      1968|           No|     Land|           Taxi|Unknown|   Commercial|\n",
            "+-------------+--------+----------------+--------------------+----------------------------+----------------+-----------+---------+--------------------+---------+-------+----+-----+-----+----------+-----------+----+-----------------+---------+-----------+-----------------+-----------+----------+-------------+---------+---------------+-------+-------------+\n",
            "only showing top 5 rows\n",
            "\n",
            "None\n"
          ]
        }
      ]
    },
    {
      "cell_type": "code",
      "metadata": {
        "id": "PzjpotLW-Ljh"
      },
      "source": [
        "# print(aircraft_df.count())\n",
        "# print(aircraft_df.dropDuplicates().count())\n",
        "aircraft_df.write.json(\"/content/gdrive/MyDrive/cadorsdata_aircraft_V2/\")"
      ],
      "execution_count": null,
      "outputs": []
    },
    {
      "cell_type": "code",
      "metadata": {
        "id": "zTh0VCmmh0i9"
      },
      "source": [
        "aircraft_df = aircraft_df.withColumn('year',year(to_date(col('Occurrence Date:'),\"yyyy-MM-dd\")))\n",
        "# aircraft_df.dtypes\n",
        "aircraft_df=aircraft_df.na.fill(value=0,subset=[\"Fatalities:\",'Injuries:'])\n",
        "aircraft_df=aircraft_df.replace('','NA')"
      ],
      "execution_count": null,
      "outputs": []
    },
    {
      "cell_type": "code",
      "metadata": {
        "id": "uCK6ntRMuyza"
      },
      "source": [
        "aircraft_df.write.json(\"/content/gdrive/MyDrive/cadorsdata_aircraft_V3/\")"
      ],
      "execution_count": null,
      "outputs": []
    },
    {
      "cell_type": "code",
      "metadata": {
        "id": "m-jnvdhXiCnc"
      },
      "source": [
        "#Arshdeep Code\n",
        "\n",
        "data1=aircraft_df.select(aircraft_df['CADORS Number'],\n",
        "                         aircraft_df['Country:'],\n",
        "                         aircraft_df['aircraft_category'],\n",
        "                         aircraft_df['make'],\n",
        "                         aircraft_df['year_built'],\n",
        "                         aircraft_df['phase_of_flight'],\n",
        "                         aircraft_df['operator_type'],\n",
        "                         aircraft_df['Fatalities:'],\n",
        "                         aircraft_df['Injuries:'],\n",
        "                         aircraft_df['Occurrence Category'],\n",
        "                         aircraft_df['Occurrence Type:'],\n",
        "                         aircraft_df['month'],\n",
        "                         aircraft_df['Province:'],\n",
        "                         aircraft_df['latitude'],\n",
        "                         aircraft_df['longitude'],\n",
        "                         aircraft_df['year'],\n",
        "                         )\n",
        "# data1.show()\n",
        "data1.write.json(\"/content/gdrive/MyDrive/cadorsdata_aircraft_arshdeep_V1/\")"
      ],
      "execution_count": null,
      "outputs": []
    },
    {
      "cell_type": "code",
      "metadata": {
        "id": "S4UXWKT3Yh6h"
      },
      "source": [
        "############ Weather Data #############\n",
        "wdf=raw_data3.select(raw_data3['CADORS Number'],raw_data3['weather'])\n",
        "wdf1=wdf.join(df.select(['CADORS Number']),['CADORS Number'])\n",
        "print(wdf1.count())\n",
        "print(wdf1.select(['CADORS Number']).distinct().count())\n",
        "weather_df=wdf1.select('CADORS Number', 'weather.*')"
      ],
      "execution_count": null,
      "outputs": []
    },
    {
      "cell_type": "code",
      "metadata": {
        "colab": {
          "base_uri": "https://localhost:8080/"
        },
        "id": "IyEIdiRp7zW-",
        "outputId": "4cbec64d-2646-4d68-9165-82edbf01676c"
      },
      "source": [
        "weather_df.show()"
      ],
      "execution_count": null,
      "outputs": [
        {
          "output_type": "stream",
          "name": "stdout",
          "text": [
            "+-------------+----+------+-----+-----+-----+-----+----+-----+----+----+\n",
            "|CADORS Number|prcp|  pres| snow| tavg| tmax| tmin|tsun| wdir|wpgt|wspd|\n",
            "+-------------+----+------+-----+-----+-----+-----+----+-----+----+----+\n",
            "|    2000Q0464| 3.0|1004.3|  0.0| 18.1| 22.9| 13.6| NaN|  NaN| NaN| NaN|\n",
            "|    2000Q0102| 0.0|1020.8|  0.0|  3.4|  5.4|  1.4| NaN|  NaN| NaN| 4.5|\n",
            "|    2001Q0379| 4.4|   NaN|  0.0|  6.0|  8.0|  4.0| NaN|  NaN| NaN| NaN|\n",
            "|    1998Q0585| 0.0|1019.1|  0.0|  9.4| 14.1|  4.3| NaN|  NaN| NaN|17.0|\n",
            "|    2001Q0062| 0.0|   NaN|220.0|-11.3| -1.5|-19.0| NaN|  NaN| NaN| NaN|\n",
            "|    2007O2592| 0.0|1018.2| 90.0| -4.8| -0.4| -9.1| NaN|  NaN| NaN| 7.6|\n",
            "|    2000C0173| 2.4|   NaN|190.0|  NaN|-17.2|-22.8| NaN|  NaN| NaN| NaN|\n",
            "|    2000Q0042| 2.4|1021.1|  0.0|  1.5|  3.0|  0.0| NaN|252.5| NaN|11.6|\n",
            "|    2000Q0670| 0.0|   NaN|  0.0|  5.3|  8.8|  0.6| NaN|287.8| NaN| 7.6|\n",
            "|    2006O0046| 1.8|   NaN| 10.0| -0.3|  3.0| -3.5| NaN|  NaN| NaN| NaN|\n",
            "|    2000O1103| 0.4|1026.3|120.0|-13.8| -8.8|-18.4| NaN|343.1| NaN| 5.6|\n",
            "|    2000O0448| 3.0|1020.9|  0.0| 12.0| 15.0|  8.6| NaN| 85.2| NaN|17.6|\n",
            "|    2015P2269| 0.0|1004.9|  0.0|  3.1|  7.2| -1.0| NaN|  NaN| NaN| 8.8|\n",
            "|    1999C1055| 0.0|1020.3|260.0|  5.1|  8.1|  3.5| NaN|160.8| NaN|31.6|\n",
            "|    2003O0929| 0.0|1012.7|  NaN| 23.6| 30.0| 18.3| 0.0|  NaN| NaN| 4.0|\n",
            "|    2009Q2289| 0.0|1020.2|  0.0|  2.7|  4.8|  0.6| NaN|146.4| NaN| 5.5|\n",
            "|    2003Q0559| 0.0|   NaN|  0.0| 13.7| 16.5| 10.8| NaN|  NaN| NaN| NaN|\n",
            "|    2000C1207| 1.2|   NaN| 10.0|-25.5|-21.0|-30.0| NaN|  NaN| NaN| NaN|\n",
            "|    2003C1621| 0.0|1019.1|240.0|-28.1|-27.3|-31.7| NaN| 85.4| NaN| 8.7|\n",
            "|    2007O0236| 3.8|1014.6|130.0|-13.4|-10.0|-16.7| NaN| 10.0| NaN|23.3|\n",
            "+-------------+----+------+-----+-----+-----+-----+----+-----+----+----+\n",
            "only showing top 20 rows\n",
            "\n"
          ]
        }
      ]
    }
  ]
}