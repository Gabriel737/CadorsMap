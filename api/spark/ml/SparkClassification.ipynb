{
  "nbformat": 4,
  "nbformat_minor": 0,
  "metadata": {
    "colab": {
      "name": "SparkClassification",
      "provenance": [],
      "collapsed_sections": []
    },
    "kernelspec": {
      "name": "python3",
      "display_name": "Python 3"
    },
    "language_info": {
      "name": "python"
    }
  },
  "cells": [
    {
      "cell_type": "code",
      "metadata": {
        "colab": {
          "base_uri": "https://localhost:8080/"
        },
        "id": "lVdk6vx8I0lW",
        "outputId": "823527c6-3bfb-4b74-8cae-33e9240d8500"
      },
      "source": [
        "pip install pyspark"
      ],
      "execution_count": null,
      "outputs": [
        {
          "output_type": "stream",
          "name": "stdout",
          "text": [
            "Collecting pyspark\n",
            "  Downloading pyspark-3.2.0.tar.gz (281.3 MB)\n",
            "\u001b[K     |████████████████████████████████| 281.3 MB 33 kB/s \n",
            "\u001b[?25hCollecting py4j==0.10.9.2\n",
            "  Downloading py4j-0.10.9.2-py2.py3-none-any.whl (198 kB)\n",
            "\u001b[K     |████████████████████████████████| 198 kB 46.5 MB/s \n",
            "\u001b[?25hBuilding wheels for collected packages: pyspark\n",
            "  Building wheel for pyspark (setup.py) ... \u001b[?25l\u001b[?25hdone\n",
            "  Created wheel for pyspark: filename=pyspark-3.2.0-py2.py3-none-any.whl size=281805912 sha256=970b42ffa5fa39e927fcf191df8df8d6c405335da04f47103256979c1cb13c53\n",
            "  Stored in directory: /root/.cache/pip/wheels/0b/de/d2/9be5d59d7331c6c2a7c1b6d1a4f463ce107332b1ecd4e80718\n",
            "Successfully built pyspark\n",
            "Installing collected packages: py4j, pyspark\n",
            "Successfully installed py4j-0.10.9.2 pyspark-3.2.0\n"
          ]
        }
      ]
    },
    {
      "cell_type": "code",
      "metadata": {
        "id": "FwSQMBIUYTKs"
      },
      "source": [
        "import sys\n",
        "from pyspark.sql import SparkSession, functions, types\n",
        "from pyspark.context import SparkContext\n",
        "from pyspark.sql.types import IntegerType,StringType\n",
        "from pyspark.sql.functions import *\n",
        "from pyspark.sql.functions import isnan, when, count, col\n",
        "#ML Algorithms\n",
        "from pyspark.ml.clustering import KMeans\n",
        "from pyspark.ml.evaluation import ClusteringEvaluator\n",
        "from pyspark.ml import Pipeline\n",
        "from pyspark.ml.feature import StringIndexer, VectorAssembler, SQLTransformer\n",
        "from pyspark.ml import Pipeline\n",
        "from pyspark.ml.classification import LogisticRegression\n",
        "from pyspark.ml.evaluation import BinaryClassificationEvaluator\n",
        "from pyspark.mllib.evaluation import BinaryClassificationMetrics\n",
        "from pyspark.ml.classification import RandomForestClassifier\n",
        "from pyspark.ml.classification import LinearSVC"
      ],
      "execution_count": null,
      "outputs": []
    },
    {
      "cell_type": "code",
      "metadata": {
        "colab": {
          "base_uri": "https://localhost:8080/"
        },
        "id": "B3bIPbCNJF3e",
        "outputId": "e0ad87e0-2336-4052-854f-68df6f65e4b3"
      },
      "source": [
        "from google.colab import drive\n",
        "drive.mount('/content/gdrive')\n",
        "path_prefix = \"/content/gdrive/MyDrive/cadorsdata\"\n",
        "\n",
        "import sys\n",
        "sys.path.insert(1, path_prefix)"
      ],
      "execution_count": null,
      "outputs": [
        {
          "output_type": "stream",
          "name": "stdout",
          "text": [
            "Mounted at /content/gdrive\n"
          ]
        }
      ]
    },
    {
      "cell_type": "code",
      "metadata": {
        "id": "f8N-WojhCObj"
      },
      "source": [
        "spark = SparkSession.builder.appName('ETL temp').getOrCreate()\n",
        "# assert spark.version >= '3.0' # make sure we have Spark 3.0+\n",
        "spark.sparkContext.setLogLevel('WARN')\n",
        "sc = spark.sparkContext"
      ],
      "execution_count": null,
      "outputs": []
    },
    {
      "cell_type": "code",
      "metadata": {
        "id": "7mi30pZ0WfiL",
        "colab": {
          "base_uri": "https://localhost:8080/"
        },
        "outputId": "3449317e-b8d8-4298-b0b9-7a0aa60fb531"
      },
      "source": [
        "aircraft_df = spark.read.json('/content/gdrive/MyDrive/cadorsdata_aircraft/*')\n",
        "weather_df = spark.read.json('/content/gdrive/MyDrive/cadorsdata_weather/*')\n",
        "print(aircraft_df.count())\n",
        "print(aircraft_df.dropDuplicates())\n",
        "print(weather_df.count())\n",
        "print(weather_df.dropDuplicates())"
      ],
      "execution_count": null,
      "outputs": [
        {
          "output_type": "stream",
          "name": "stdout",
          "text": [
            "303018\n",
            "DataFrame[CADORS Number: string, Fatalities:: bigint, GR: string, Injuries:: bigint, Occurrence Category: array<string>, Occurrence Date:: string, Occurrence Event Information: array<string>, Occurrence Location:: string, Occurrence Type:: string, Province:: string, aircraft_category: string, amateur_built: string, damage: string, flight_rule: string, gear_type: string, hour: bigint, label: bigint, latitude: double, longitude: double, make: string, month: bigint, operator_type: string, phase_of_flight: string, pos: bigint, registration_mark: string, year: bigint, year_built: string]\n",
            "279769\n",
            "DataFrame[CADORS Number: string, prcp: string, pres: string, snow: string, tavg: string, tmax: string, tmin: string, tsun: string, wdir: string, wpgt: string, wspd: string]\n"
          ]
        }
      ]
    },
    {
      "cell_type": "code",
      "metadata": {
        "id": "s7IkPLG69FFh",
        "colab": {
          "base_uri": "https://localhost:8080/"
        },
        "outputId": "a54f8877-b1bc-4fdf-ee5e-71530bf32bbd"
      },
      "source": [
        "aircraft_df_acci=aircraft_df.filter(col('Occurrence Type:')=='Accident').cache()\n",
        "weather_df_acci=weather_df.join(aircraft_df_acci.select(['CADORS Number']),['CADORS Number']).dropDuplicates().cache()\n",
        "print(aircraft_df_acci.count())\n",
        "print(aircraft_df_acci.dropDuplicates())\n",
        "print(weather_df_acci.count())\n",
        "print(weather_df_acci.dropDuplicates())"
      ],
      "execution_count": null,
      "outputs": [
        {
          "output_type": "stream",
          "name": "stdout",
          "text": [
            "7846\n",
            "DataFrame[CADORS Number: string, Fatalities:: bigint, GR: string, Injuries:: bigint, Occurrence Category: array<string>, Occurrence Date:: string, Occurrence Event Information: array<string>, Occurrence Location:: string, Occurrence Type:: string, Province:: string, aircraft_category: string, amateur_built: string, damage: string, flight_rule: string, gear_type: string, hour: bigint, label: bigint, latitude: double, longitude: double, make: string, month: bigint, operator_type: string, phase_of_flight: string, pos: bigint, registration_mark: string, year: bigint, year_built: string]\n",
            "7678\n",
            "DataFrame[CADORS Number: string, prcp: int, pres: int, snow: int, tavg: int, tmax: int, tmin: int, tsun: int, wdir: int, wpgt: int, wspd: int]\n"
          ]
        }
      ]
    },
    {
      "cell_type": "code",
      "metadata": {
        "id": "-BvnLXW52kv8"
      },
      "source": [
        "weather_df = weather_df.withColumn('prcp', weather_df['prcp'].cast(IntegerType()))\n",
        "weather_df = weather_df.withColumn('snow', weather_df['snow'].cast(IntegerType()))\n",
        "weather_df = weather_df.withColumn('pres', weather_df['pres'].cast(IntegerType()))\n",
        "weather_df = weather_df.withColumn('tavg', weather_df['tavg'].cast(IntegerType()))\n",
        "weather_df = weather_df.withColumn('tmax', weather_df['tmax'].cast(IntegerType()))\n",
        "weather_df = weather_df.withColumn('tmin', weather_df['tmin'].cast(IntegerType()))\n",
        "weather_df = weather_df.withColumn('tsun', weather_df['tsun'].cast(IntegerType()))\n",
        "weather_df = weather_df.withColumn('wdir', weather_df['wdir'].cast(IntegerType()))\n",
        "weather_df = weather_df.withColumn('wpgt', weather_df['wpgt'].cast(IntegerType()))\n",
        "weather_df = weather_df.withColumn('wspd', weather_df['wspd'].cast(IntegerType()))"
      ],
      "execution_count": null,
      "outputs": []
    },
    {
      "cell_type": "markdown",
      "metadata": {
        "id": "0zNrso5J86zG"
      },
      "source": [
        "CLASSIFICATION FOR ONLY ACCIDENTS"
      ]
    },
    {
      "cell_type": "code",
      "metadata": {
        "id": "BDgKmUyKyNRg"
      },
      "source": [
        "def merge(x):\n",
        "  if len(x)==0:\n",
        "    return 'NA'\n",
        "  temp=''\n",
        "  x=sorted(x)\n",
        "  for i in range(len(x)):\n",
        "    temp+=x[i]\n",
        "  return temp\n",
        "  \n",
        "def con(x):\n",
        "    if x=='':\n",
        "        return 'NA'\n",
        "    return x"
      ],
      "execution_count": null,
      "outputs": []
    },
    {
      "cell_type": "code",
      "metadata": {
        "colab": {
          "base_uri": "https://localhost:8080/"
        },
        "id": "J-0Vw57XTaQy",
        "outputId": "4b61f821-feb9-445e-c162-4f1a6d0dccfb"
      },
      "source": [
        "transform_udf=udf(merge,StringType())\n",
        "makeNA_udf = udf(con,StringType())\n",
        "\n",
        "#picking features from df( Main Data)\n",
        "featureset1=aircraft_df_acci.select(['CADORS Number','Occurrence Category','hour','GR','Occurrence Event Information','month']).dropDuplicates()\n",
        "featureset1=featureset1.withColumn('Occurrence Event Information_merged',transform_udf(col('Occurrence Event Information'))).withColumn('Occurrence Category_merged',transform_udf(col('Occurrence Category')))\n",
        "featureset1=featureset1.withColumn('Occurrence Event Information_merged',makeNA_udf(col('Occurrence Event Information_merged'))).withColumn('Occurrence Category_merged',makeNA_udf(col('Occurrence Category_merged')))\n",
        "print(\"FEATURES 1\\n\")\n",
        "print(featureset1.count())\n",
        "print(featureset1.head(5))\n"
      ],
      "execution_count": null,
      "outputs": [
        {
          "output_type": "stream",
          "name": "stdout",
          "text": [
            "FEATURES 1\n",
            "\n",
            "7678\n",
            "[Row(CADORS Number='2000C0204', Occurrence Category=['Abnormal runway contact'], hour=18, GR='Alberta', Occurrence Event Information=[], month=3, Occurrence Event Information_merged='NA', Occurrence Category_merged='Abnormal runway contact'), Row(CADORS Number='2000C0770', Occurrence Category=['Abnormal runway contact'], hour=14, GR='Alberta', Occurrence Event Information=[], month=7, Occurrence Event Information_merged='NA', Occurrence Category_merged='Abnormal runway contact'), Row(CADORS Number='2000O0271', Occurrence Category=['Other', 'Runway excursion'], hour=21, GR='Ontario', Occurrence Event Information=[], month=4, Occurrence Event Information_merged='NA', Occurrence Category_merged='OtherRunway excursion'), Row(CADORS Number='2000O0466', Occurrence Category=['Other'], hour=14, GR='Ontario', Occurrence Event Information=[], month=6, Occurrence Event Information_merged='NA', Occurrence Category_merged='Other'), Row(CADORS Number='2003O1133', Occurrence Category=['Controlled flight into or toward terrain'], hour=14, GR='Ontario', Occurrence Event Information=[], month=9, Occurrence Event Information_merged='NA', Occurrence Category_merged='Controlled flight into or toward terrain')]\n"
          ]
        }
      ]
    },
    {
      "cell_type": "code",
      "metadata": {
        "colab": {
          "base_uri": "https://localhost:8080/"
        },
        "id": "hf0zmaoMc2c7",
        "outputId": "7d1cf90f-3e54-43b6-885a-a71a83db74ea"
      },
      "source": [
        "#features from aircraft data\n",
        "# aircraft_information1=aircraft_information1.join(df.select('CADORS Number'),['CADORS Number'])\n",
        "featureset2 = aircraft_df_acci.groupBy('CADORS Number').agg(collect_list('flight_rule').alias('flight_rule'),collect_list('year_built').alias('year_built'),collect_list('amateur_built').alias('amateur_built'),collect_list('gear_type').alias('gear_type'),collect_list('phase_of_flight').alias('phase_of_flight'),collect_list('damage').alias('damage'),collect_list('operator_type').alias('operator_type'))\n",
        "featureset2=featureset2.withColumn('flight_rule_merged',transform_udf(col('flight_rule'))).withColumn('year_built_merged',transform_udf(col('year_built'))).withColumn('amateur_built_merged',transform_udf(col('amateur_built'))).withColumn('gear_type_merged',transform_udf(col('gear_type'))).withColumn('phase_of_flight_merged',transform_udf(col('phase_of_flight'))).withColumn('damage_merged',transform_udf(col('damage'))).withColumn('operator_type_merged',transform_udf(col('operator_type')))\n",
        "featureset2=featureset2.withColumn('flight_rule_merged',makeNA_udf(col('flight_rule_merged'))).withColumn('year_built_merged',makeNA_udf(col('year_built_merged'))).withColumn('amateur_built_merged',makeNA_udf(col('amateur_built_merged'))).withColumn('gear_type_merged',makeNA_udf(col('gear_type_merged'))).withColumn('phase_of_flight_merged',makeNA_udf(col('phase_of_flight_merged'))).withColumn('damage_merged',makeNA_udf(col('damage_merged'))).withColumn('operator_type_merged',makeNA_udf(col('operator_type_merged')))\n",
        "print(\"FEATURES 2\\n\")\n",
        "print(featureset2.count())\n",
        "print(featureset2.head(5))\n"
      ],
      "execution_count": null,
      "outputs": [
        {
          "output_type": "stream",
          "name": "stdout",
          "text": [
            "FEATURES 2\n",
            "\n",
            "7678\n",
            "[Row(CADORS Number='1993C0151', flight_rule=['NA'], year_built=['1956'], amateur_built=['No'], gear_type=['NA'], phase_of_flight=['Unknown'], damage=['Unknown'], operator_type=['Commercial'], flight_rule_merged='NA', year_built_merged='1956', amateur_built_merged='No', gear_type_merged='NA', phase_of_flight_merged='Unknown', damage_merged='Unknown', operator_type_merged='Commercial'), Row(CADORS Number='1993O0043', flight_rule=['NA'], year_built=['1976'], amateur_built=['No'], gear_type=['Land'], phase_of_flight=['Roll Out'], damage=['Substantial'], operator_type=['Commercial'], flight_rule_merged='NA', year_built_merged='1976', amateur_built_merged='No', gear_type_merged='Land', phase_of_flight_merged='Roll Out', damage_merged='Substantial', operator_type_merged='Commercial'), Row(CADORS Number='1993O0077', flight_rule=['NA'], year_built=['1991'], amateur_built=['No'], gear_type=['Land'], phase_of_flight=['Landing'], damage=['Minor'], operator_type=['Commercial'], flight_rule_merged='NA', year_built_merged='1991', amateur_built_merged='No', gear_type_merged='Land', phase_of_flight_merged='Landing', damage_merged='Minor', operator_type_merged='Commercial'), Row(CADORS Number='1993O0172', flight_rule=['NA'], year_built=['1992'], amateur_built=['No'], gear_type=['Land'], phase_of_flight=['Parked'], damage=['No Damage'], operator_type=['Commercial'], flight_rule_merged='NA', year_built_merged='1992', amateur_built_merged='No', gear_type_merged='Land', phase_of_flight_merged='Parked', damage_merged='No Damage', operator_type_merged='Commercial'), Row(CADORS Number='1993O0220', flight_rule=['NA'], year_built=['1968'], amateur_built=['No'], gear_type=['Land'], phase_of_flight=['Landing'], damage=['Unknown'], operator_type=['Commercial'], flight_rule_merged='NA', year_built_merged='1968', amateur_built_merged='No', gear_type_merged='Land', phase_of_flight_merged='Landing', damage_merged='Unknown', operator_type_merged='Commercial')]\n"
          ]
        }
      ]
    },
    {
      "cell_type": "code",
      "metadata": {
        "colab": {
          "base_uri": "https://localhost:8080/"
        },
        "id": "-pWTbniDc3zQ",
        "outputId": "9728d1c5-b1b7-4fd8-fd0a-b69467c8a278"
      },
      "source": [
        "# #features from weather data\n",
        "featureset3=weather_df_acci.select(['CADORS Number','prcp','snow']).dropDuplicates()\n",
        "featureset3=featureset3.dropna(how='any')\n",
        "print(\"FEATURES 3\\n\")\n",
        "print(featureset3.count())\n",
        "print(featureset3.head(5))"
      ],
      "execution_count": null,
      "outputs": [
        {
          "output_type": "stream",
          "name": "stdout",
          "text": [
            "FEATURES 3\n",
            "\n",
            "5888\n",
            "[Row(CADORS Number='2000Q0399', prcp=1, snow=0), Row(CADORS Number='1995O0436', prcp=0, snow=0), Row(CADORS Number='2012O1389', prcp=0, snow=0), Row(CADORS Number='1995O0367', prcp=0, snow=0), Row(CADORS Number='2006C0787', prcp=0, snow=0)]\n"
          ]
        }
      ]
    },
    {
      "cell_type": "code",
      "metadata": {
        "colab": {
          "base_uri": "https://localhost:8080/"
        },
        "id": "2NKgPZcwc5Ay",
        "outputId": "76f8206f-cf2b-4768-88bd-e026c24365aa"
      },
      "source": [
        "## Final data for ML\n",
        "ff=featureset1.join(featureset2,['CADORS Number'],how='inner')\n",
        "ff=ff.join(featureset3,['CADORS Number'],how='inner')\n",
        "print(ff.count())\n",
        "print(ff.show())\n",
        "ff.printSchema()"
      ],
      "execution_count": null,
      "outputs": [
        {
          "output_type": "stream",
          "name": "stdout",
          "text": [
            "5888\n",
            "+-------------+--------------------+----+----------------+----------------------------+-----+-----------------------------------+--------------------------+-----------+----------+-------------+---------+---------------+-------------+-------------+------------------+-----------------+--------------------+----------------+----------------------+-------------+--------------------+----+----+\n",
            "|CADORS Number| Occurrence Category|hour|              GR|Occurrence Event Information|month|Occurrence Event Information_merged|Occurrence Category_merged|flight_rule|year_built|amateur_built|gear_type|phase_of_flight|       damage|operator_type|flight_rule_merged|year_built_merged|amateur_built_merged|gear_type_merged|phase_of_flight_merged|damage_merged|operator_type_merged|prcp|snow|\n",
            "+-------------+--------------------+----+----------------+----------------------------+-----+-----------------------------------+--------------------------+-----------+----------+-------------+---------+---------------+-------------+-------------+------------------+-----------------+--------------------+----------------+----------------------+-------------+--------------------+----+----+\n",
            "|    1993C0151|[Collision with o...|  18|         Ontario|                          []|    5|                                 NA|      Collision with ob...|       [NA]|    [1956]|         [No]|     [NA]|      [Unknown]|    [Unknown]| [Commercial]|                NA|             1956|                  No|              NA|               Unknown|      Unknown|          Commercial|   1|  80|\n",
            "|    1993O0077|[Abnormal runway ...|  22|         Ontario|                          []|    2|                                 NA|      Abnormal runway c...|       [NA]|    [1991]|         [No]|   [Land]|      [Landing]|      [Minor]| [Commercial]|                NA|             1991|                  No|            Land|               Landing|        Minor|          Commercial|   8|   0|\n",
            "|    1993O0172|[Cabin safety eve...|   6|         Ontario|                          []|    4|                                 NA|       Cabin safety events|       [NA]|    [1992]|         [No]|   [Land]|       [Parked]|  [No Damage]| [Commercial]|                NA|             1992|                  No|            Land|                Parked|    No Damage|          Commercial|   0|   0|\n",
            "|    1993O0220|[Loss of control ...|  19|         Ontario|                          []|    4|                                 NA|      Loss of control -...|       [NA]|    [1968]|         [No]|   [Land]|      [Landing]|    [Unknown]| [Commercial]|                NA|             1968|                  No|            Land|               Landing|      Unknown|          Commercial|   4|   0|\n",
            "|    1993O0233|[Runway excursion...|  20|         Ontario|                          []|    5|                                 NA|      Runway excursionS...|       [NA]|      [NA]|         [No]|   [Land]|      [Landing]|[Substantial]| [Commercial]|                NA|               NA|                  No|            Land|               Landing|  Substantial|          Commercial|   0|   0|\n",
            "|    1993O0422|[Controlled fligh...|  20|         Ontario|                          []|    7|                                 NA|      Controlled flight...|       [NA]|      [NA]|         [No]|     [NA]|      [Unknown]|    [Unknown]|    [Private]|                NA|               NA|                  No|              NA|               Unknown|      Unknown|             Private|   0|   0|\n",
            "|    1993O0483|[Controlled fligh...|  13|         Ontario|                          []|    8|                                 NA|      Controlled flight...|       [NA]|      [NA]|        [Yes]|   [Land]|        [Climb]|    [Unknown]|    [Private]|                NA|               NA|                 Yes|            Land|                 Climb|      Unknown|             Private|   0|   0|\n",
            "|    1993O0552|[Controlled fligh...|  18|         Ontario|                          []|    9|                                 NA|      Controlled flight...|       [NA]|      [NA]|         [No]|   [Land]|      [Unknown]|  [Destroyed]|    [Private]|                NA|               NA|                  No|            Land|               Unknown|    Destroyed|             Private|   0|   0|\n",
            "|    1993P0198|[Controlled fligh...|  18|British Columbia|                          []|    6|                                 NA|      Controlled flight...|       [NA]|    [1973]|         [No]|     [NA]|     [Approach]|  [Destroyed]|    [Private]|                NA|             1973|                  No|              NA|              Approach|    Destroyed|             Private|   0|   0|\n",
            "|    1993P0208|[System/component...|   1|British Columbia|                          []|    6|                                 NA|      System/component ...|       [NA]|      [NA]|        [Yes]|   [Land]|       [Cruise]|[Substantial]|    [Private]|                NA|               NA|                 Yes|            Land|                Cruise|  Substantial|             Private|   0|   0|\n",
            "|    1993P0254|[Collision with o...|  22|British Columbia|                          []|    7|                                 NA|      Collision with ob...|       [NA]|      [NA]|         [No]|     [NA]|      [Landing]|  [Destroyed]|    [Private]|                NA|               NA|                  No|              NA|               Landing|    Destroyed|             Private|   0|   0|\n",
            "|    1993P0433|[Loss of control ...|  21|British Columbia|                          []|   11|                                 NA|      Abnormal runway c...|       [NA]|    [1985]|         [No]|   [Land]|      [Landing]|[Substantial]| [Commercial]|                NA|             1985|                  No|            Land|               Landing|  Substantial|          Commercial|   0|   0|\n",
            "|    1993Q0278|[Collision with o...|  19|          Quebec|                          []|    6|                                 NA|      Collision with ob...|       [NA]|      [NA]|         [No]|   [Land]|     [Approach]|[Substantial]|    [Private]|                NA|               NA|                  No|            Land|              Approach|  Substantial|             Private|   0|   0|\n",
            "|    1993Q0430|[Loss of control ...|  23|          Quebec|                          []|    8|                                 NA|      Loss of control -...|       [NA]|      [NA]|         [No]|   [Land]|      [Unknown]|[Substantial]|    [Private]|                NA|               NA|                  No|            Land|               Unknown|  Substantial|             Private|   0|   0|\n",
            "|    1993Q0464|[Collision with o...|  21|          Quebec|                          []|    9|                                 NA|      Collision with ob...|       [NA]|      [NA]|         [No]|    [Sea]|         [Taxi]|[Substantial]|    [Private]|                NA|               NA|                  No|             Sea|                  Taxi|  Substantial|             Private|   0|   0|\n",
            "|    1993Q0495|[System/component...|  12|          Quebec|                          []|    9|                                 NA|      System/component ...|       [NA]|    [1992]|         [No]|     [NA]|        [Climb]|      [Minor]|    [Private]|                NA|             1992|                  No|              NA|                 Climb|        Minor|             Private|   0|   0|\n",
            "|    1993Q0588|[Abnormal runway ...|  12|          Quebec|                          []|   10|                                 NA|      Abnormal runway c...|       [NA]|    [1980]|         [No]|   [Land]|      [Landing]|    [Unknown]| [Commercial]|                NA|             1980|                  No|            Land|               Landing|      Unknown|          Commercial|   0|   0|\n",
            "|    1993W0037|[Controlled fligh...|   2|         Alberta|                          []|    2|                                 NA|      Controlled flight...|       [NA]|      [NA]|         [No]|   [Land]|      [Unknown]|    [Unknown]|    [Private]|                NA|               NA|                  No|            Land|               Unknown|      Unknown|             Private|   0| 160|\n",
            "|    1993W0103|[Controlled fligh...|  23|         Alberta|                          []|    5|                                 NA|      Controlled flight...|       [NA]|    [1987]|         [No]|     [NA]|      [Unknown]|    [Unknown]|    [Private]|                NA|             1987|                  No|              NA|               Unknown|      Unknown|             Private|   0|   0|\n",
            "|    1993W0190|[Runway excursion...|   9|         Alberta|                          []|    7|                                 NA|      Controlled flight...|       [NA]|      [NA]|         [No]|   [Land]|     [Approach]|  [Destroyed]|      [State]|                NA|               NA|                  No|            Land|              Approach|    Destroyed|               State|   0|   0|\n",
            "+-------------+--------------------+----+----------------+----------------------------+-----+-----------------------------------+--------------------------+-----------+----------+-------------+---------+---------------+-------------+-------------+------------------+-----------------+--------------------+----------------+----------------------+-------------+--------------------+----+----+\n",
            "only showing top 20 rows\n",
            "\n",
            "None\n",
            "root\n",
            " |-- CADORS Number: string (nullable = true)\n",
            " |-- Occurrence Category: array (nullable = true)\n",
            " |    |-- element: string (containsNull = true)\n",
            " |-- hour: long (nullable = true)\n",
            " |-- GR: string (nullable = true)\n",
            " |-- Occurrence Event Information: array (nullable = true)\n",
            " |    |-- element: string (containsNull = true)\n",
            " |-- month: long (nullable = true)\n",
            " |-- Occurrence Event Information_merged: string (nullable = true)\n",
            " |-- Occurrence Category_merged: string (nullable = true)\n",
            " |-- flight_rule: array (nullable = false)\n",
            " |    |-- element: string (containsNull = false)\n",
            " |-- year_built: array (nullable = false)\n",
            " |    |-- element: string (containsNull = false)\n",
            " |-- amateur_built: array (nullable = false)\n",
            " |    |-- element: string (containsNull = false)\n",
            " |-- gear_type: array (nullable = false)\n",
            " |    |-- element: string (containsNull = false)\n",
            " |-- phase_of_flight: array (nullable = false)\n",
            " |    |-- element: string (containsNull = false)\n",
            " |-- damage: array (nullable = false)\n",
            " |    |-- element: string (containsNull = false)\n",
            " |-- operator_type: array (nullable = false)\n",
            " |    |-- element: string (containsNull = false)\n",
            " |-- flight_rule_merged: string (nullable = true)\n",
            " |-- year_built_merged: string (nullable = true)\n",
            " |-- amateur_built_merged: string (nullable = true)\n",
            " |-- gear_type_merged: string (nullable = true)\n",
            " |-- phase_of_flight_merged: string (nullable = true)\n",
            " |-- damage_merged: string (nullable = true)\n",
            " |-- operator_type_merged: string (nullable = true)\n",
            " |-- prcp: integer (nullable = true)\n",
            " |-- snow: integer (nullable = true)\n",
            "\n"
          ]
        }
      ]
    },
    {
      "cell_type": "code",
      "metadata": {
        "colab": {
          "base_uri": "https://localhost:8080/"
        },
        "id": "eQnqXpfbZKNk",
        "outputId": "8de329a6-0af6-4383-827d-4b1c2e775e78"
      },
      "source": [
        "######################### ML DATA ####################################\n",
        "finalMLData=ff.join(aircraft_df.select(['CADORS Number','label']),['CADORS Number'])\n",
        "print(finalMLData.filter(finalMLData['label']==1).count()) \n",
        "#771 \n",
        "train, validation = finalMLData.randomSplit([0.75, 0.25])\n",
        "train = train.cache()\n",
        "validation = validation.cache()"
      ],
      "execution_count": null,
      "outputs": [
        {
          "output_type": "stream",
          "name": "stdout",
          "text": [
            "771\n"
          ]
        }
      ]
    },
    {
      "cell_type": "markdown",
      "metadata": {
        "id": "nMMs5YBCXxKE"
      },
      "source": [
        "LOGISTIC REGRESSION"
      ]
    },
    {
      "cell_type": "code",
      "metadata": {
        "id": "e1bcTL8gabcn"
      },
      "source": [
        "# ################################# Pipeline ############################################\n",
        "str_indexer = StringIndexer(inputCols=['Occurrence Category_merged','GR','Occurrence Event Information_merged','flight_rule_merged','year_built_merged','amateur_built_merged','gear_type_merged','phase_of_flight_merged','damage_merged','operator_type_merged'], outputCols=['Occurrence Category_merged1','GR1','Occurrence Event Information_merged1','flight_rule_merged1','year_built_merged1','amateur_built_merged1','gear_type_merged1','phase_of_flight_merged1','damage_merged1','operator_type_merged1'],handleInvalid=\"keep\")\n",
        "assembler = VectorAssembler(inputCols=['hour','month','Occurrence Category_merged1','GR1','Occurrence Event Information_merged1','flight_rule_merged1','year_built_merged1','amateur_built_merged1','gear_type_merged1','phase_of_flight_merged1','phase_of_flight_merged1','damage_merged1','operator_type_merged1','operator_type_merged1','prcp','snow'], outputCol=\"features\")\n",
        "################### ML Model ####################################\n",
        "classifier = LogisticRegression(featuresCol=\"features\",labelCol=\"label\")\n",
        "pipeline = Pipeline(stages=[str_indexer,assembler,classifier])\n",
        "# pipeline = Pipeline(stages=[str_indexer])\n",
        "model =    pipeline.fit(train)"
      ],
      "execution_count": null,
      "outputs": []
    },
    {
      "cell_type": "code",
      "metadata": {
        "id": "wJw9xW3oaoHt"
      },
      "source": [
        "pred=model.transform(validation)\n",
        "print(pred.show(20))\n",
        "eval=pred.select(pred.label,pred.rawPrediction,pred.prediction)\n",
        "evaluator = BinaryClassificationEvaluator()\n",
        "score=evaluator.evaluate(eval)\n",
        "print(score)"
      ],
      "execution_count": null,
      "outputs": []
    },
    {
      "cell_type": "code",
      "metadata": {
        "colab": {
          "base_uri": "https://localhost:8080/"
        },
        "id": "lChErIAuGEtq",
        "outputId": "32b69784-9813-461d-c5fc-d99463b25982"
      },
      "source": [
        "# pred.write.json(\"/content/gdrive/MyDrive/cadors_LR/\")"
      ],
      "execution_count": null,
      "outputs": [
        {
          "output_type": "stream",
          "name": "stdout",
          "text": [
            "0.5750645301867185\n"
          ]
        }
      ]
    },
    {
      "cell_type": "markdown",
      "metadata": {
        "id": "czLQnVJ2YBDU"
      },
      "source": [
        "SVM"
      ]
    },
    {
      "cell_type": "code",
      "metadata": {
        "id": "9yvlueWm4Bfp"
      },
      "source": [
        "# ################################# Pipeline ############################################\n",
        "str_indexer1 = StringIndexer(inputCols=['Occurrence Category_merged','GR','Occurrence Event Information_merged','flight_rule_merged','year_built_merged','amateur_built_merged','gear_type_merged','phase_of_flight_merged','damage_merged','operator_type_merged'], outputCols=['Occurrence Category_merged1','GR1','Occurrence Event Information_merged1','flight_rule_merged1','year_built_merged1','amateur_built_merged1','gear_type_merged1','phase_of_flight_merged1','damage_merged1','operator_type_merged1'],handleInvalid=\"keep\")\n",
        "assembler1 = VectorAssembler(inputCols=['hour','month','GR1','Occurrence Category_merged1','Occurrence Event Information_merged1','flight_rule_merged1','year_built_merged1','amateur_built_merged1','gear_type_merged1','phase_of_flight_merged1','phase_of_flight_merged1','damage_merged1','operator_type_merged1','operator_type_merged1','prcp','snow'], outputCol=\"features\")\n",
        "################### ML Model ####################################\n",
        "classifier1 = LinearSVC(featuresCol=\"features\",labelCol=\"label\")\n",
        "pipeline1 = Pipeline(stages=[str_indexer1,assembler1,classifier1])\n",
        "# pipeline = Pipeline(stages=[str_indexer])\n",
        "model1 =    pipeline1.fit(train)"
      ],
      "execution_count": null,
      "outputs": []
    },
    {
      "cell_type": "code",
      "metadata": {
        "colab": {
          "base_uri": "https://localhost:8080/"
        },
        "id": "ABp2ozzsLJUl",
        "outputId": "9f8930fe-c16d-45dd-80be-e636e3de4162"
      },
      "source": [
        "pred1=model1.transform(validation)\n",
        "print(pred1.show(20))\n",
        "eval1=pred1.select(pred1.label,pred1.rawPrediction,pred1.prediction)\n",
        "evaluator1 = BinaryClassificationEvaluator()\n",
        "score1=evaluator1.evaluate(eval1)\n",
        "print(score1)"
      ],
      "execution_count": null,
      "outputs": [
        {
          "output_type": "stream",
          "name": "stdout",
          "text": [
            "+-------------+--------------------+----+--------------------+----------------------------+-----+-----------------------------------+--------------------------+-----------+----------+-------------+----------------+-------------------+--------------------+--------------------+------------------+-----------------+--------------------+----------------+----------------------+----------------+--------------------+----+----+-----+---------------------------+---+------------------------------------+-------------------+------------------+---------------------+-----------------+-----------------------+--------------+---------------------+--------------------+--------------------+----------+\n",
            "|CADORS Number| Occurrence Category|hour|                  GR|Occurrence Event Information|month|Occurrence Event Information_merged|Occurrence Category_merged|flight_rule|year_built|amateur_built|       gear_type|    phase_of_flight|              damage|       operator_type|flight_rule_merged|year_built_merged|amateur_built_merged|gear_type_merged|phase_of_flight_merged|   damage_merged|operator_type_merged|prcp|snow|label|Occurrence Category_merged1|GR1|Occurrence Event Information_merged1|flight_rule_merged1|year_built_merged1|amateur_built_merged1|gear_type_merged1|phase_of_flight_merged1|damage_merged1|operator_type_merged1|            features|       rawPrediction|prediction|\n",
            "+-------------+--------------------+----+--------------------+----------------------------+-----+-----------------------------------+--------------------------+-----------+----------+-------------+----------------+-------------------+--------------------+--------------------+------------------+-----------------+--------------------+----------------+----------------------+----------------+--------------------+----+----+-----+---------------------------+---+------------------------------------+-------------------+------------------+---------------------+-----------------+-----------------------+--------------+---------------------+--------------------+--------------------+----------+\n",
            "|    1995C0222|[Collision with o...|  23|            Manitoba|                          []|    6|                                 NA|      Collision with ob...|       [NA]|      [NA]|         [No]|            [NA]|          [Unknown]|           [Unknown]|        [Commercial]|                NA|               NA|                  No|              NA|               Unknown|         Unknown|          Commercial|   0|   0|    0|                        4.0|4.0|                                 0.0|                0.0|               0.0|                  0.0|              1.0|                    3.0|           1.0|                  1.0|[23.0,6.0,4.0,4.0...|[1.00000005101609...|       0.0|\n",
            "|    1999O0243|[Fuel related, Lo...|  19|             Ontario|                          []|    3|                                 NA|      Fuel relatedLoss ...|       [NA]|    [1962]|         [No]|          [Land]|          [Descent]|           [Unknown]|        [Commercial]|                NA|             1962|                  No|            Land|               Descent|         Unknown|          Commercial|  15| 350|    1|                      815.0|0.0|                                 0.0|                0.0|              57.0|                  0.0|              0.0|                   10.0|           1.0|                  1.0|[19.0,3.0,0.0,815...|[1.00000006379504...|       0.0|\n",
            "|    2000O0358|[Loss of control ...|  20|             Ontario|        [Aerodrome - runw...|    5|               Aerodrome - runwa...|      AerodromeLoss of ...|       [NA]|    [1981]|         [No]|            [NA]|          [Landing]|           [Unknown]|        [Commercial]|                NA|             1981|                  No|              NA|               Landing|         Unknown|          Commercial|   0|   0|    0|                       51.0|0.0|                                 2.0|                0.0|               9.0|                  0.0|              1.0|                    0.0|           1.0|                  1.0|(16,[0,1,3,4,6,8,...|[1.00769044186700...|       0.0|\n",
            "|    2000P0477|[Controlled fligh...|   2|    British Columbia|                          []|    7|                                 NA|      Controlled flight...|       [NA]|    [1981]|         [No]|            [NA]|           [Cruise]|           [Unknown]|           [Private]|                NA|             1981|                  No|              NA|                Cruise|         Unknown|             Private|   0|   0|    1|                        0.0|2.0|                                 0.0|                0.0|               9.0|                  0.0|              1.0|                    1.0|           1.0|                  0.0|(16,[0,1,2,6,8,9,...|[1.00000002797209...|       0.0|\n",
            "|    2003A0098|[Controlled fligh...|  22|Newfoundland and ...|                          []|    2|                                 NA|      Controlled flight...|       [NA]|      [NA]|         [No]|          [Land]|         [Approach]|         [Destroyed]|           [Private]|                NA|               NA|                  No|            Land|              Approach|       Destroyed|             Private|   0|1360|    1|                      317.0|8.0|                                 0.0|                0.0|               0.0|                  0.0|              0.0|                    4.0|           2.0|                  0.0|(16,[0,1,2,3,9,10...|[1.00000002810969...|       0.0|\n",
            "|    2005O1442|[Airprox/TCAS ale...|  19|             Ontario|        [Collision midair...|    8|               Collision midairC...|      Airprox/TCAS aler...|   [NA, NA]|[1973, NA]|     [No, No]|[Sea, Amphibian]|[Takeoff, Approach]|[Substantial, Minor]|[Private, Commerc...|              NANA|           1973NA|                NoNo|    AmphibianSea|       ApproachTakeoff|MinorSubstantial|   CommercialPrivate|   0|   0|    1|                      590.0|0.0|                                75.0|                3.0|             173.0|                  2.0|             25.0|                   25.0|           6.0|                  6.0|[19.0,8.0,0.0,590...|[1.28838938742114...|       0.0|\n",
            "|    2008P0173|[Collision with o...|  17|    British Columbia|                          []|    1|                                 NA|      Collision with ob...|       [NA]|    [1968]|         [No]|            [NA]|           [Parked]|       [Substantial]|        [Commercial]|                NA|             1968|                  No|              NA|                Parked|     Substantial|          Commercial|  13|   0|    0|                        4.0|2.0|                                 0.0|                0.0|              12.0|                  0.0|              1.0|                    8.0|           0.0|                  1.0|[17.0,1.0,2.0,4.0...|[1.00000007347786...|       0.0|\n",
            "|    2016P0416|[Other, Unknown o...|   0|    British Columbia|                          []|    4|                                 NA|      OtherUnknown or u...|      [VFR]|    [1978]|         [No]|          [Land]|            [Climb]|         [Destroyed]|        [Commercial]|               VFR|             1978|                  No|            Land|                 Climb|       Destroyed|          Commercial|   0|   0|    0|                       18.0|2.0|                                 0.0|                1.0|               6.0|                  0.0|              0.0|                    5.0|           2.0|                  1.0|[0.0,4.0,2.0,18.0...|[1.00000002774069...|       0.0|\n",
            "|    1996Q0072|[Loss of control ...|  20|              Quebec|                          []|    2|                                 NA|      Loss of control -...|       [NA]|      [NA]|         [No]|            [NA]|          [Takeoff]|           [Unknown]|                [NA]|                NA|               NA|                  No|              NA|               Takeoff|         Unknown|                  NA|   0|   0|    0|                       11.0|1.0|                                 0.0|                0.0|               0.0|                  0.0|              1.0|                    2.0|           1.0|                  2.0|[20.0,2.0,1.0,11....|[1.00000007426091...|       0.0|\n",
            "|    2001C1321|[Abnormal runway ...|  18|             Alberta|                          []|   10|                                 NA|      Abnormal runway c...|       [NA]|    [1981]|         [No]|          [Land]|         [Approach]|       [Substantial]|        [Commercial]|                NA|             1981|                  No|            Land|              Approach|     Substantial|          Commercial|   0|   0|    0|                       42.0|3.0|                                 0.0|                0.0|               9.0|                  0.0|              0.0|                    4.0|           0.0|                  1.0|(16,[0,1,2,3,6,9,...|[1.00000007421587...|       0.0|\n",
            "|    2002C1578|[Abnormal runway ...|  17|             Alberta|                          []|   12|                                 NA|      Abnormal runway c...|       [NA]|    [1979]|         [No]|          [Land]|             [Taxi]|       [Substantial]|        [Commercial]|                NA|             1979|                  No|            Land|                  Taxi|     Substantial|          Commercial|   0|   0|    0|                      248.0|3.0|                                 0.0|                0.0|               1.0|                  0.0|              0.0|                    6.0|           0.0|                  1.0|(16,[0,1,2,3,6,9,...|[1.00000007109136...|       0.0|\n",
            "|    2002O1142|[System/component...|  15|             Ontario|                          []|    8|                                 NA|      Controlled flight...|       [NA]|    [1958]|         [No]|     [Amphibian]|          [Landing]|       [Substantial]|           [Private]|                NA|             1958|                  No|       Amphibian|               Landing|     Substantial|             Private|   0|   0|    0|                      206.0|0.0|                                 0.0|                0.0|              42.0|                  0.0|              3.0|                    0.0|           0.0|                  0.0|(16,[0,1,3,6,8],[...|[1.00000002889386...|       0.0|\n",
            "|    2004C1203|[Aerodrome, Contr...|   1|Northwest Territo...|        [Aerodrome - runw...|    7|               Aerodrome - runwa...|      AerodromeControll...|       [NA]|    [1971]|         [No]|          [Land]|          [Takeoff]|       [Substantial]|        [Commercial]|                NA|             1971|                  No|            Land|               Takeoff|     Substantial|          Commercial|   0|   0|    0|                      815.0|6.0|                                 2.0|                0.0|              26.0|                  0.0|              0.0|                    2.0|           0.0|                  1.0|[1.0,7.0,6.0,815....|[1.00769046039115...|       0.0|\n",
            "|    2009C0398|[Controlled fligh...|  19|             Alberta|                          []|    2|                                 NA|      Controlled flight...|       [NA]|    [1960]|         [No]|          [Land]|          [Landing]|       [Substantial]|           [Private]|                NA|             1960|                  No|            Land|               Landing|     Substantial|             Private|   0|  40|    0|                      815.0|3.0|                                 0.0|                0.0|              38.0|                  0.0|              0.0|                    0.0|           0.0|                  0.0|(16,[0,1,2,3,6,15...|[1.00000006774496...|       0.0|\n",
            "|    2009Q2369|[Abnormal runway ...|  18|              Quebec|                          []|   11|                                 NA|      Abnormal runway c...|       [NA]|    [2005]|         [No]|          [Land]|          [Landing]|         [No Damage]|           [Private]|                NA|             2005|                  No|            Land|               Landing|       No Damage|             Private|   0|   0|    0|                        7.0|1.0|                                 0.0|                0.0|              37.0|                  0.0|              0.0|                    0.0|           5.0|                  0.0|(16,[0,1,2,3,6,11...|[0.99999996363119...|       0.0|\n",
            "|    2012O2392|[Runway excursion...|  12|             Ontario|                          []|    8|                                 NA|      Collision with ob...|       [NA]|    [1978]|         [No]|          [Land]|          [Takeoff]|       [Substantial]|           [Private]|                NA|             1978|                  No|            Land|               Takeoff|     Substantial|             Private|   0|   0|    0|                      654.0|0.0|                                 0.0|                0.0|               6.0|                  0.0|              0.0|                    2.0|           0.0|                  0.0|(16,[0,1,3,6,9,10...|[1.00000005940484...|       0.0|\n",
            "|    2017C3187|[Runway excursion...|  14|             Alberta|                          []|    7|                                 NA|      Runway excursionS...|      [VFR]|    [2014]|        [Yes]|          [Land]|          [Landing]|           [Unknown]|           [Private]|               VFR|             2014|                 Yes|            Land|               Landing|         Unknown|             Private|   0|   0|    0|                       50.0|3.0|                                 0.0|                1.0|              75.0|                  1.0|              0.0|                    0.0|           1.0|                  0.0|(16,[0,1,2,3,5,6,...|[1.00000007308369...|       0.0|\n",
            "|    2018Q2090|[Loss of control ...|  17|              Quebec|                          []|    7|                                 NA|      Loss of control -...|      [VFR]|    [1959]|         [No]|          [Land]|         [Approach]|       [Substantial]|           [Private]|               VFR|             1959|                  No|            Land|              Approach|     Substantial|             Private|   3|   0|    0|                      815.0|1.0|                                 0.0|                1.0|              46.0|                  0.0|              0.0|                    4.0|           0.0|                  0.0|(16,[0,1,2,3,5,6,...|[1.00000004889031...|       0.0|\n",
            "|    1995O0426|       [Other, Bird]|  12|             Ontario|                          []|    8|                                 NA|                 BirdOther|       [NA]|    [1978]|         [No]|          [Land]|          [Landing]|       [Substantial]|        [Commercial]|                NA|             1978|                  No|            Land|               Landing|     Substantial|          Commercial|   1|   0|    0|                       82.0|0.0|                                 0.0|                0.0|               6.0|                  0.0|              0.0|                    0.0|           0.0|                  1.0|(16,[0,1,3,6,12,1...|[1.00000007714660...|       0.0|\n",
            "|    1998P0129|[Controlled fligh...|   0|    British Columbia|                          []|    3|                                 NA|      Controlled flight...|       [NA]|      [NA]|         [No]|            [NA]|          [Unknown]|           [Unknown]|           [Private]|                NA|               NA|                  No|              NA|               Unknown|         Unknown|             Private|   8|   0|    0|                        0.0|2.0|                                 0.0|                0.0|               0.0|                  0.0|              1.0|                    3.0|           1.0|                  0.0|(16,[1,2,8,9,10,1...|[1.00000003151083...|       0.0|\n",
            "+-------------+--------------------+----+--------------------+----------------------------+-----+-----------------------------------+--------------------------+-----------+----------+-------------+----------------+-------------------+--------------------+--------------------+------------------+-----------------+--------------------+----------------+----------------------+----------------+--------------------+----+----+-----+---------------------------+---+------------------------------------+-------------------+------------------+---------------------+-----------------+-----------------------+--------------+---------------------+--------------------+--------------------+----------+\n",
            "only showing top 20 rows\n",
            "\n",
            "None\n",
            "0.5494391624826408\n"
          ]
        }
      ]
    },
    {
      "cell_type": "code",
      "metadata": {
        "id": "SmhdJSrOLpME"
      },
      "source": [
        "# target_df = predictions.select([col('`{}`'.format(c)).cast(StringType()).alias(c) for c in predictions.columns])\n",
        "temp=spark.read.json('/content/gdrive/MyDrive/cadors_SVC/*')\n",
        "temp.write.option('header',True).csv('/content/gdrive/MyDrive/ccadors_SVC_sample')\n",
        "# target_df.write.json(\"/content/gdrive/MyDrive/cadors_SVC/\")"
      ],
      "execution_count": null,
      "outputs": []
    },
    {
      "cell_type": "code",
      "metadata": {
        "id": "jWaU_G8dmeXW",
        "colab": {
          "base_uri": "https://localhost:8080/"
        },
        "outputId": "5b4845fc-7f9b-49ae-f6c9-85ebbf01a17a"
      },
      "source": [
        "predictions = spark.read.json('/content/gdrive/MyDrive/cadors_LR/')\n",
        "predictions.count()"
      ],
      "execution_count": null,
      "outputs": [
        {
          "output_type": "execute_result",
          "data": {
            "text/plain": [
              "1574"
            ]
          },
          "metadata": {},
          "execution_count": 6
        }
      ]
    },
    {
      "cell_type": "code",
      "metadata": {
        "id": "lWespq8w1b5w"
      },
      "source": [
        "temp=target_df.filter((col('Occurrence Category_merged')!='NA'))\n"
      ],
      "execution_count": null,
      "outputs": []
    },
    {
      "cell_type": "code",
      "metadata": {
        "colab": {
          "base_uri": "https://localhost:8080/"
        },
        "id": "nQl6msix2U41",
        "outputId": "a21d0f27-ab05-481a-de9a-c9500e62ea99"
      },
      "source": [
        "temp.filter(col('prediction')==1).show()\n",
        "predictions.filter(col('prediction')==1).show()"
      ],
      "execution_count": null,
      "outputs": [
        {
          "output_type": "stream",
          "name": "stdout",
          "text": [
            "+-------------+---+---+-------------------+--------------------------+---------------------------+----------------------------+-----------------------------------+------------------------------------+-------------+--------------------+---------------------+------+-------------+--------------+--------+-----------+------------------+-------------------+---------+----------------+-----------------+----+-----+-----+-------------+--------------------+---------------------+---------------+----------------------+-----------------------+----+----------+-----------+-------------+----+----------+-----------------+------------------+\n",
            "|CADORS Number| GR|GR1|Occurrence Category|Occurrence Category_merged|Occurrence Category_merged1|Occurrence Event Information|Occurrence Event Information_merged|Occurrence Event Information_merged1|amateur_built|amateur_built_merged|amateur_built_merged1|damage|damage_merged|damage_merged1|features|flight_rule|flight_rule_merged|flight_rule_merged1|gear_type|gear_type_merged|gear_type_merged1|hour|label|month|operator_type|operator_type_merged|operator_type_merged1|phase_of_flight|phase_of_flight_merged|phase_of_flight_merged1|prcp|prediction|probability|rawPrediction|snow|year_built|year_built_merged|year_built_merged1|\n",
            "+-------------+---+---+-------------------+--------------------------+---------------------------+----------------------------+-----------------------------------+------------------------------------+-------------+--------------------+---------------------+------+-------------+--------------+--------+-----------+------------------+-------------------+---------+----------------+-----------------+----+-----+-----+-------------+--------------------+---------------------+---------------+----------------------+-----------------------+----+----------+-----------+-------------+----+----------+-----------------+------------------+\n",
            "+-------------+---+---+-------------------+--------------------------+---------------------------+----------------------------+-----------------------------------+------------------------------------+-------------+--------------------+---------------------+------+-------------+--------------+--------+-----------+------------------+-------------------+---------+----------------+-----------------+----+-----+-----+-------------+--------------------+---------------------+---------------+----------------------+-----------------------+----+----------+-----------+-------------+----+----------+-----------------+------------------+\n",
            "\n",
            "+-------------+----------------+---+--------------------+--------------------------+---------------------------+----------------------------+-----------------------------------+------------------------------------+-------------+--------------------+---------------------+--------------------+--------------------+--------------+--------------------+------------------+------------------+-------------------+------------+----------------+-----------------+----+-----+-----+--------------------+--------------------+---------------------+--------------------+----------------------+-----------------------+----+----------+--------------------+--------------------+-----+------------+-----------------+------------------+\n",
            "|CADORS Number|              GR|GR1| Occurrence Category|Occurrence Category_merged|Occurrence Category_merged1|Occurrence Event Information|Occurrence Event Information_merged|Occurrence Event Information_merged1|amateur_built|amateur_built_merged|amateur_built_merged1|              damage|       damage_merged|damage_merged1|            features|       flight_rule|flight_rule_merged|flight_rule_merged1|   gear_type|gear_type_merged|gear_type_merged1|hour|label|month|       operator_type|operator_type_merged|operator_type_merged1|     phase_of_flight|phase_of_flight_merged|phase_of_flight_merged1|prcp|prediction|         probability|       rawPrediction| snow|  year_built|year_built_merged|year_built_merged1|\n",
            "+-------------+----------------+---+--------------------+--------------------------+---------------------------+----------------------------+-----------------------------------+------------------------------------+-------------+--------------------+---------------------+--------------------+--------------------+--------------+--------------------+------------------+------------------+-------------------+------------+----------------+-----------------+----+-----+-----+--------------------+--------------------+---------------------+--------------------+----------------------+-----------------------+----+----------+--------------------+--------------------+-----+------------+-----------------+------------------+\n",
            "|    2014Q2656|          Quebec|1.0|[Ground collision...|      Ground collisionL...|                       35.0|                          []|                                 NA|                                 0.0|     [No, No]|                NoNo|                  2.0|[Unknown, Substan...|  SubstantialUnknown|          11.0|{null, null, 1, [...|    [Unknown, VFR]|        UnknownVFR|               10.0| [Land, Ski]|         LandSki|             26.0|  14|    0|   12|  [Private, Private]|      PrivatePrivate|                  3.0|   [Parked, Landing]|         LandingParked|                   16.0| 0.0|       1.0|{1, [0.3496209419...|{1, [-0.620705814...|250.0|[2003, 1949]|         19492003|             150.0|\n",
            "|    2018O3103|         Ontario|0.0|[Airprox/TCAS ale...|      Airprox/TCAS aler...|                      790.0|                          []|                                 NA|                                 0.0|     [No, No]|                NoNo|                  2.0|[Destroyed, Subst...|DestroyedSubstantial|          19.0|{null, null, 1, [...|        [VFR, VFR]|            VFRVFR|                5.0|[Land, Land]|        LandLand|              4.0|  15|    0|   11|  [Private, Private]|      PrivatePrivate|                  3.0|  [Cruise, Approach]|        ApproachCruise|                   17.0| 0.6|       1.0|{1, [0.1916780210...|{1, [-1.439143477...|  0.0|[1967, 1980]|         19671980|             185.0|\n",
            "|    2018O3103|         Ontario|0.0|[Airprox/TCAS ale...|      Airprox/TCAS aler...|                      790.0|                          []|                                 NA|                                 0.0|     [No, No]|                NoNo|                  2.0|[Destroyed, Subst...|DestroyedSubstantial|          19.0|{null, null, 1, [...|        [VFR, VFR]|            VFRVFR|                5.0|[Land, Land]|        LandLand|              4.0|  15|    0|   11|  [Private, Private]|      PrivatePrivate|                  3.0|  [Cruise, Approach]|        ApproachCruise|                   17.0| 0.6|       1.0|{1, [0.1916780210...|{1, [-1.439143477...|  0.0|[1967, 1980]|         19671980|             185.0|\n",
            "|    2018P2245|British Columbia|2.0|[Other, Loss of c...|      Loss of control -...|                       30.0|                          []|                                 NA|                                 0.0|     [No, No]|                NoNo|                  2.0|  [Minor, No Damage]|      MinorNo Damage|          15.0|{null, null, 1, [...|        [VFR, VFR]|            VFRVFR|                5.0|[Land, Land]|        LandLand|              4.0|  23|    0|   10|  [Private, Private]|      PrivatePrivate|                  3.0|[Approach, Approach]|      ApproachApproach|                   25.0| 4.6|       1.0|{1, [0.4271991877...|{1, [-0.293287647...|  0.0|[1969, 1971]|         19691971|             185.0|\n",
            "|    2018P2245|British Columbia|2.0|[Other, Loss of c...|      Loss of control -...|                       30.0|                          []|                                 NA|                                 0.0|     [No, No]|                NoNo|                  2.0|  [Minor, No Damage]|      MinorNo Damage|          15.0|{null, null, 1, [...|        [VFR, VFR]|            VFRVFR|                5.0|[Land, Land]|        LandLand|              4.0|  23|    0|   10|  [Private, Private]|      PrivatePrivate|                  3.0|[Approach, Approach]|      ApproachApproach|                   25.0| 4.6|       1.0|{1, [0.4271991877...|{1, [-0.293287647...|  0.0|[1969, 1971]|         19691971|             185.0|\n",
            "|    2020P0775|British Columbia|2.0|[Airprox/TCAS ale...|      Airprox/TCAS aler...|                      291.0|                          []|                                 NA|                                 0.0|     [No, No]|                NoNo|                  2.0|[Unknown, Destroyed]|    DestroyedUnknown|          22.0|{null, null, 1, [...|[Unknown, Unknown]|    UnknownUnknown|                9.0|  [Land, NA]|          LandNA|             10.0|  22|    0|    2|      [State, State]|          StateState|                 15.0|     [Cruise, Climb]|           ClimbCruise|                   38.0| 0.0|       1.0|{1, [0.1876812888...|{1, [-1.465147512...|  0.0|  [1998, NA]|           1998NA|             185.0|\n",
            "|    2020P0775|British Columbia|2.0|[Airprox/TCAS ale...|      Airprox/TCAS aler...|                      291.0|                          []|                                 NA|                                 0.0|     [No, No]|                NoNo|                  2.0|[Unknown, Destroyed]|    DestroyedUnknown|          22.0|{null, null, 1, [...|[Unknown, Unknown]|    UnknownUnknown|                9.0|  [Land, NA]|          LandNA|             10.0|  22|    0|    2|      [State, State]|          StateState|                 15.0|     [Cruise, Climb]|           ClimbCruise|                   38.0| 0.0|       1.0|{1, [0.1876812888...|{1, [-1.465147512...|  0.0|  [1998, NA]|           1998NA|             185.0|\n",
            "|    2015C2166|         Alberta|3.0|[Airprox/TCAS ale...|      Airprox/TCAS aler...|                      291.0|                          []|                                 NA|                                 0.0|     [No, No]|                NoNo|                  2.0|[Destroyed, Subst...|DestroyedSubstantial|          19.0|{null, null, 1, [...|        [VFR, VFR]|            VFRVFR|                5.0| [Land, Sea]|         LandSea|             21.0|   1|    1|    6|[Commercial, Priv...|   CommercialPrivate|                  6.0|    [Cruise, Cruise]|          CruiseCruise|                   14.0| 0.0|       1.0|{1, [0.2038142302...|{1, [-1.362623595...|  0.0|[1981, 1970]|         19701981|             185.0|\n",
            "|    2015C2166|         Alberta|3.0|[Airprox/TCAS ale...|      Airprox/TCAS aler...|                      291.0|                          []|                                 NA|                                 0.0|     [No, No]|                NoNo|                  2.0|[Destroyed, Subst...|DestroyedSubstantial|          19.0|{null, null, 1, [...|        [VFR, VFR]|            VFRVFR|                5.0| [Land, Sea]|         LandSea|             21.0|   1|    1|    6|[Commercial, Priv...|   CommercialPrivate|                  6.0|    [Cruise, Cruise]|          CruiseCruise|                   14.0| 0.0|       1.0|{1, [0.2038142302...|{1, [-1.362623595...|  0.0|[1981, 1970]|         19701981|             185.0|\n",
            "|    2014C0759|        Manitoba|4.0|[Abrupt manoeuvre...|      Abrupt manoeuvreA...|                      790.0|                          []|                                 NA|                                 0.0|     [No, No]|                NoNo|                  2.0|[No Damage, Subst...|No DamageSubstantial|           8.0|{null, null, 1, [...|    [Unknown, IFR]|        IFRUnknown|               16.0|[Land, Land]|        LandLand|              4.0|  22|    0|    2|[Private, Commerc...|   CommercialPrivate|                  6.0| [Approach, Takeoff]|       ApproachTakeoff|                   35.0| 5.2|       1.0|{1, [0.4674974957...|{1, [-0.130193608...|330.0|[2012, 1998]|         19982012|             185.0|\n",
            "|    2014C0759|        Manitoba|4.0|[Abrupt manoeuvre...|      Abrupt manoeuvreA...|                      790.0|                          []|                                 NA|                                 0.0|     [No, No]|                NoNo|                  2.0|[No Damage, Subst...|No DamageSubstantial|           8.0|{null, null, 1, [...|    [Unknown, IFR]|        IFRUnknown|               16.0|[Land, Land]|        LandLand|              4.0|  22|    0|    2|[Private, Commerc...|   CommercialPrivate|                  6.0| [Approach, Takeoff]|       ApproachTakeoff|                   35.0| 5.2|       1.0|{1, [0.4674974957...|{1, [-0.130193608...|330.0|[2012, 1998]|         19982012|             185.0|\n",
            "+-------------+----------------+---+--------------------+--------------------------+---------------------------+----------------------------+-----------------------------------+------------------------------------+-------------+--------------------+---------------------+--------------------+--------------------+--------------+--------------------+------------------+------------------+-------------------+------------+----------------+-----------------+----+-----+-----+--------------------+--------------------+---------------------+--------------------+----------------------+-----------------------+----+----------+--------------------+--------------------+-----+------------+-----------------+------------------+\n",
            "\n"
          ]
        }
      ]
    },
    {
      "cell_type": "code",
      "metadata": {
        "id": "joz4QoBIxq05"
      },
      "source": [
        "target_df = predictions.select([col('`{}`'.format(c)).cast(StringType()).alias(c) for c in predictions.columns])\n",
        "# target_df = predictions.sample(withReplacement=False, fraction=0.10).select([col('`{}`'.format(c)).cast(StringType()).alias(c) for c in predictions.columns])"
      ],
      "execution_count": null,
      "outputs": []
    },
    {
      "cell_type": "code",
      "metadata": {
        "id": "KM_Jc9lgzegu"
      },
      "source": [
        "temp.write.option('header',True).csv('/content/gdrive/MyDrive/cadorsdata_LR_sample')"
      ],
      "execution_count": null,
      "outputs": []
    },
    {
      "cell_type": "code",
      "metadata": {
        "colab": {
          "base_uri": "https://localhost:8080/"
        },
        "id": "uZ_gnQ9BnnfP",
        "outputId": "48e19245-171a-4a57-9898-cf24ecb63c24"
      },
      "source": [
        "print(predictions.count())\n",
        "print('True Positive: ',predictions.filter((col('prediction')==1) & (col('label')==1)).count())\n",
        "print('True Negative: ',predictions.filter((col('prediction')==0) & (col('label')==0)).count())\n",
        "print('False Positive: ',predictions.filter((col('prediction')==1) & (col('label')==0)).count())\n",
        "print('False Negative: ',predictions.filter((col('prediction')==0) & (col('label')==1)).count())"
      ],
      "execution_count": null,
      "outputs": [
        {
          "output_type": "stream",
          "name": "stdout",
          "text": [
            "1574\n",
            "True Positive:  2\n",
            "True Negative:  1373\n",
            "False Positive:  9\n",
            "False Negative:  190\n"
          ]
        }
      ]
    }
  ]
}