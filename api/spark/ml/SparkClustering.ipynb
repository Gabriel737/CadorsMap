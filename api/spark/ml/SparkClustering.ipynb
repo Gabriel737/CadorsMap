{
  "nbformat": 4,
  "nbformat_minor": 0,
  "metadata": {
    "colab": {
      "name": "SparkClustering",
      "provenance": [],
      "collapsed_sections": []
    },
    "kernelspec": {
      "name": "python3",
      "display_name": "Python 3"
    },
    "language_info": {
      "name": "python"
    }
  },
  "cells": [
    {
      "cell_type": "code",
      "metadata": {
        "colab": {
          "base_uri": "https://localhost:8080/"
        },
        "id": "lVdk6vx8I0lW",
        "outputId": "fbadee7a-ce66-4314-b6d7-310559146478"
      },
      "source": [
        "pip install pyspark"
      ],
      "execution_count": null,
      "outputs": [
        {
          "output_type": "stream",
          "name": "stdout",
          "text": [
            "Collecting pyspark\n",
            "  Downloading pyspark-3.2.0.tar.gz (281.3 MB)\n",
            "\u001b[K     |████████████████████████████████| 281.3 MB 41 kB/s \n",
            "\u001b[?25hCollecting py4j==0.10.9.2\n",
            "  Downloading py4j-0.10.9.2-py2.py3-none-any.whl (198 kB)\n",
            "\u001b[K     |████████████████████████████████| 198 kB 55.1 MB/s \n",
            "\u001b[?25hBuilding wheels for collected packages: pyspark\n",
            "  Building wheel for pyspark (setup.py) ... \u001b[?25l\u001b[?25hdone\n",
            "  Created wheel for pyspark: filename=pyspark-3.2.0-py2.py3-none-any.whl size=281805912 sha256=f45f85b65c4f62e9f85f123b46fdb647c0882875753b82dbfec149b740f76cf9\n",
            "  Stored in directory: /root/.cache/pip/wheels/0b/de/d2/9be5d59d7331c6c2a7c1b6d1a4f463ce107332b1ecd4e80718\n",
            "Successfully built pyspark\n",
            "Installing collected packages: py4j, pyspark\n",
            "Successfully installed py4j-0.10.9.2 pyspark-3.2.0\n"
          ]
        }
      ]
    },
    {
      "cell_type": "code",
      "metadata": {
        "id": "FwSQMBIUYTKs"
      },
      "source": [
        "import sys\n",
        "from pyspark.sql import SparkSession, functions, types\n",
        "from pyspark.context import SparkContext\n",
        "from pyspark.sql.types import IntegerType,StringType\n",
        "from pyspark.sql.functions import *\n",
        "from pyspark.sql.functions import isnan, when, count, col\n",
        "#ML Algorithms\n",
        "from pyspark.ml.clustering import KMeans\n",
        "from pyspark.ml.evaluation import ClusteringEvaluator\n",
        "from pyspark.ml import Pipeline\n",
        "from pyspark.ml.feature import StringIndexer, VectorAssembler, SQLTransformer\n",
        "from pyspark.ml import Pipeline\n",
        "from pyspark.ml.classification import LogisticRegression\n",
        "from pyspark.ml.evaluation import BinaryClassificationEvaluator\n",
        "from pyspark.mllib.evaluation import BinaryClassificationMetrics\n",
        "from pyspark.ml.classification import RandomForestClassifier\n",
        "from pyspark.ml.classification import LinearSVC\n",
        "from pyspark.ml.clustering import KMeans\n",
        "from pyspark.ml.evaluation import ClusteringEvaluator"
      ],
      "execution_count": null,
      "outputs": []
    },
    {
      "cell_type": "code",
      "metadata": {
        "colab": {
          "base_uri": "https://localhost:8080/"
        },
        "id": "B3bIPbCNJF3e",
        "outputId": "a8f25369-abf7-449d-d18a-89efe21fe7c8"
      },
      "source": [
        "from google.colab import drive\n",
        "drive.mount('/content/gdrive')\n",
        "path_prefix = \"/content/gdrive/MyDrive/cadorsdata\"\n",
        "import sys\n",
        "sys.path.insert(1, path_prefix)"
      ],
      "execution_count": null,
      "outputs": [
        {
          "output_type": "stream",
          "name": "stdout",
          "text": [
            "Mounted at /content/gdrive\n"
          ]
        }
      ]
    },
    {
      "cell_type": "code",
      "metadata": {
        "id": "f8N-WojhCObj"
      },
      "source": [
        "spark = SparkSession.builder.appName('ETL temp').getOrCreate()\n",
        "# assert spark.version >= '3.0' # make sure we have Spark 3.0+\n",
        "spark.sparkContext.setLogLevel('WARN')\n",
        "sc = spark.sparkContext"
      ],
      "execution_count": null,
      "outputs": []
    },
    {
      "cell_type": "code",
      "metadata": {
        "id": "mB_aHTVSIDm6"
      },
      "source": [
        "aircraft_df = spark.read.json('/content/gdrive/MyDrive/cadorsdata_aircraft/*')\n",
        "weather_df = spark.read.json('/content/gdrive/MyDrive/cadorsdata_weather/*')"
      ],
      "execution_count": null,
      "outputs": []
    },
    {
      "cell_type": "code",
      "metadata": {
        "id": "1TgW1jlTDR-s"
      },
      "source": [
        "aircraft_df = aircraft_df.na.drop(subset=[\"aircraft_category\",\"make\",\"operator_type\",\"phase_of_flight\",\"year_built\"])"
      ],
      "execution_count": null,
      "outputs": []
    },
    {
      "cell_type": "code",
      "metadata": {
        "colab": {
          "base_uri": "https://localhost:8080/"
        },
        "id": "dp4hGBfO9o6p",
        "outputId": "1ab1a3e1-8d80-4da6-b41b-91ee2e0441e5"
      },
      "source": [
        "print(aircraft_df.count())\n",
        "print(aircraft_df.select(['CADORS Number']).distinct().count())"
      ],
      "execution_count": null,
      "outputs": [
        {
          "output_type": "stream",
          "name": "stdout",
          "text": [
            "235425\n",
            "212176\n"
          ]
        }
      ]
    },
    {
      "cell_type": "code",
      "metadata": {
        "id": "lV_xhtq70Qr5"
      },
      "source": [
        "weather_df = weather_df.withColumn('prcp', weather_df['prcp'].cast(IntegerType()))\n",
        "weather_df = weather_df.withColumn('snow', weather_df['snow'].cast(IntegerType()))\n",
        "weather_df = weather_df.withColumn('pres', weather_df['pres'].cast(IntegerType()))\n",
        "weather_df = weather_df.withColumn('tavg', weather_df['tavg'].cast(IntegerType()))\n",
        "weather_df = weather_df.withColumn('tmax', weather_df['tmax'].cast(IntegerType()))\n",
        "weather_df = weather_df.withColumn('tmin', weather_df['tmin'].cast(IntegerType()))\n",
        "weather_df = weather_df.withColumn('tsun', weather_df['tsun'].cast(IntegerType()))\n",
        "weather_df = weather_df.withColumn('wdir', weather_df['wdir'].cast(IntegerType()))\n",
        "weather_df = weather_df.withColumn('wpgt', weather_df['wpgt'].cast(IntegerType()))\n",
        "weather_df = weather_df.withColumn('wspd', weather_df['wspd'].cast(IntegerType()))"
      ],
      "execution_count": null,
      "outputs": []
    },
    {
      "cell_type": "code",
      "metadata": {
        "id": "IwA0IEZEFYJm"
      },
      "source": [
        "weather_df=weather_df.join(aircraft_df.select(['CADORS Number']),['CADORS Number'])\n",
        "weather_df=weather_df.dropDuplicates()"
      ],
      "execution_count": null,
      "outputs": []
    },
    {
      "cell_type": "code",
      "metadata": {
        "colab": {
          "base_uri": "https://localhost:8080/"
        },
        "id": "gdJDEbvKFBwC",
        "outputId": "aeeb52d5-13ce-40e9-b40c-270bc5214b3c"
      },
      "source": [
        "print(weather_df.count())\n",
        "print(weather_df.select(['CADORS Number']).distinct().count())"
      ],
      "execution_count": null,
      "outputs": [
        {
          "output_type": "stream",
          "name": "stdout",
          "text": [
            "212176\n",
            "212176\n"
          ]
        }
      ]
    },
    {
      "cell_type": "markdown",
      "metadata": {
        "id": "0zNrso5J86zG"
      },
      "source": [
        "CLUSTERING FOR ONLY ACCIDENTS"
      ]
    },
    {
      "cell_type": "markdown",
      "metadata": {
        "id": "SnjagTvlWlxx"
      },
      "source": [
        ""
      ]
    },
    {
      "cell_type": "code",
      "metadata": {
        "id": "BDgKmUyKyNRg"
      },
      "source": [
        "def merge(x):\n",
        "  if len(x)==0:\n",
        "    return 'NA'\n",
        "  temp=''\n",
        "  x=sorted(x)\n",
        "  for i in range(len(x)):\n",
        "    temp+=x[i]\n",
        "  return temp\n",
        "  \n",
        "def con(x):\n",
        "    if x=='':\n",
        "        return 'NA'\n",
        "    return x"
      ],
      "execution_count": null,
      "outputs": []
    },
    {
      "cell_type": "code",
      "metadata": {
        "colab": {
          "base_uri": "https://localhost:8080/"
        },
        "id": "J-0Vw57XTaQy",
        "outputId": "10a4ce45-5844-4752-a35d-9428f6da17df"
      },
      "source": [
        "transform_udf=udf(merge,StringType())\n",
        "makeNA_udf = udf(con,StringType())\n",
        "\n",
        "#picking features from df( Main Data)\n",
        "featureset1=aircraft_df.select(['CADORS Number','Occurrence Category','hour','GR','Occurrence Event Information','month']).dropDuplicates()\n",
        "featureset1=featureset1.withColumn('Occurrence Event Information_merged',transform_udf(col('Occurrence Event Information'))).withColumn('Occurrence Category_merged',transform_udf(col('Occurrence Category')))\n",
        "featureset1=featureset1.withColumn('Occurrence Event Information_merged',makeNA_udf(col('Occurrence Event Information_merged'))).withColumn('Occurrence Category_merged',makeNA_udf(col('Occurrence Category_merged')))\n",
        "print(\"FEATURES 1\\n\")\n",
        "print(featureset1.count())\n",
        "print(featureset1.head(5))\n"
      ],
      "execution_count": null,
      "outputs": [
        {
          "output_type": "stream",
          "name": "stdout",
          "text": [
            "FEATURES 1\n",
            "\n",
            "212176\n",
            "[Row(CADORS Number='1994C0090', Occurrence Category=['System/component failure or malfunction [powerplant]', 'Other'], hour=16, GR='Manitoba', Occurrence Event Information=[], month=3, Occurrence Event Information_merged='NA', Occurrence Category_merged='OtherSystem/component failure or malfunction [powerplant]'), Row(CADORS Number='1994W0678', Occurrence Category=['System/component failure or malfunction [non-powerplant]'], hour=1, GR='Yukon', Occurrence Event Information=[], month=8, Occurrence Event Information_merged='NA', Occurrence Category_merged='System/component failure or malfunction [non-powerplant]'), Row(CADORS Number='1995O0125', Occurrence Category=['System/component failure or malfunction [non-powerplant]'], hour=20, GR='Ontario', Occurrence Event Information=[], month=3, Occurrence Event Information_merged='NA', Occurrence Category_merged='System/component failure or malfunction [non-powerplant]'), Row(CADORS Number='1995P0129', Occurrence Category=['Turbulence encounter'], hour=1, GR='British Columbia', Occurrence Event Information=[], month=3, Occurrence Event Information_merged='NA', Occurrence Category_merged='Turbulence encounter'), Row(CADORS Number='1995P0206', Occurrence Category=['System/component failure or malfunction [powerplant]', 'Other'], hour=0, GR='British Columbia', Occurrence Event Information=[], month=5, Occurrence Event Information_merged='NA', Occurrence Category_merged='OtherSystem/component failure or malfunction [powerplant]')]\n"
          ]
        }
      ]
    },
    {
      "cell_type": "code",
      "metadata": {
        "colab": {
          "base_uri": "https://localhost:8080/"
        },
        "id": "hf0zmaoMc2c7",
        "outputId": "02585717-6dba-401d-c6d9-2879e23f8d0b"
      },
      "source": [
        "#features from aircraft data\n",
        "# aircraft_information1=aircraft_information1.join(df.select('CADORS Number'),['CADORS Number'])\n",
        "featureset2 = aircraft_df.groupBy('CADORS Number').agg(collect_list('flight_rule').alias('flight_rule'),collect_list('year_built').alias('year_built'),collect_list('amateur_built').alias('amateur_built'),collect_list('gear_type').alias('gear_type'),collect_list('phase_of_flight').alias('phase_of_flight'),collect_list('damage').alias('damage'),collect_list('operator_type').alias('operator_type'))\n",
        "featureset2=featureset2.withColumn('flight_rule_merged',transform_udf(col('flight_rule'))).withColumn('year_built_merged',transform_udf(col('year_built'))).withColumn('amateur_built_merged',transform_udf(col('amateur_built'))).withColumn('gear_type_merged',transform_udf(col('gear_type'))).withColumn('phase_of_flight_merged',transform_udf(col('phase_of_flight'))).withColumn('damage_merged',transform_udf(col('damage'))).withColumn('operator_type_merged',transform_udf(col('operator_type')))\n",
        "featureset2=featureset2.withColumn('flight_rule_merged',makeNA_udf(col('flight_rule_merged'))).withColumn('year_built_merged',makeNA_udf(col('year_built_merged'))).withColumn('amateur_built_merged',makeNA_udf(col('amateur_built_merged'))).withColumn('gear_type_merged',makeNA_udf(col('gear_type_merged'))).withColumn('phase_of_flight_merged',makeNA_udf(col('phase_of_flight_merged'))).withColumn('damage_merged',makeNA_udf(col('damage_merged'))).withColumn('operator_type_merged',makeNA_udf(col('operator_type_merged')))\n",
        "print(\"FEATURES 2\\n\")\n",
        "print(featureset2.count())\n",
        "print(featureset2.head(5))\n"
      ],
      "execution_count": null,
      "outputs": [
        {
          "output_type": "stream",
          "name": "stdout",
          "text": [
            "FEATURES 2\n",
            "\n",
            "212176\n",
            "[Row(CADORS Number='1993C0067', flight_rule=['NA'], year_built=['1982'], amateur_built=['No'], gear_type=['NA'], phase_of_flight=['Unknown'], damage=['Unknown'], operator_type=['Commercial'], flight_rule_merged='NA', year_built_merged='1982', amateur_built_merged='No', gear_type_merged='NA', phase_of_flight_merged='Unknown', damage_merged='Unknown', operator_type_merged='Commercial'), Row(CADORS Number='1993C0072', flight_rule=['NA'], year_built=['1967'], amateur_built=['No'], gear_type=['NA'], phase_of_flight=['Unknown'], damage=['Unknown'], operator_type=['Commercial'], flight_rule_merged='NA', year_built_merged='1967', amateur_built_merged='No', gear_type_merged='NA', phase_of_flight_merged='Unknown', damage_merged='Unknown', operator_type_merged='Commercial'), Row(CADORS Number='1993C0084', flight_rule=['NA'], year_built=['NA'], amateur_built=['No'], gear_type=['NA'], phase_of_flight=['Unknown'], damage=['Unknown'], operator_type=['NA'], flight_rule_merged='NA', year_built_merged='NA', amateur_built_merged='No', gear_type_merged='NA', phase_of_flight_merged='Unknown', damage_merged='Unknown', operator_type_merged='NA'), Row(CADORS Number='1993C0093', flight_rule=['NA'], year_built=['NA'], amateur_built=['No'], gear_type=['NA'], phase_of_flight=['Unknown'], damage=['Unknown'], operator_type=['NA'], flight_rule_merged='NA', year_built_merged='NA', amateur_built_merged='No', gear_type_merged='NA', phase_of_flight_merged='Unknown', damage_merged='Unknown', operator_type_merged='NA'), Row(CADORS Number='1993C0112', flight_rule=['NA'], year_built=['1965'], amateur_built=['No'], gear_type=['NA'], phase_of_flight=['Parked'], damage=['Unknown'], operator_type=['Commercial'], flight_rule_merged='NA', year_built_merged='1965', amateur_built_merged='No', gear_type_merged='NA', phase_of_flight_merged='Parked', damage_merged='Unknown', operator_type_merged='Commercial')]\n"
          ]
        }
      ]
    },
    {
      "cell_type": "code",
      "metadata": {
        "colab": {
          "base_uri": "https://localhost:8080/"
        },
        "id": "-pWTbniDc3zQ",
        "outputId": "8f9427ea-3a9e-4a84-d55d-8841d9a24ec0"
      },
      "source": [
        "# #features from weather data\n",
        "featureset3=weather_df.select(['CADORS Number','prcp','snow']).dropDuplicates()\n",
        "featureset3=featureset3.dropna(how='any')\n",
        "print(\"FEATURES 3\\n\")\n",
        "print(featureset3.count())\n",
        "print(featureset3.head(5))"
      ],
      "execution_count": null,
      "outputs": [
        {
          "output_type": "stream",
          "name": "stdout",
          "text": [
            "FEATURES 3\n",
            "\n",
            "158499\n",
            "[Row(CADORS Number='1995C0405', prcp=0, snow=250), Row(CADORS Number='1995O0273', prcp=0, snow=0), Row(CADORS Number='1995P0141', prcp=0, snow=270), Row(CADORS Number='1995Q0310', prcp=0, snow=200), Row(CADORS Number='1995Q0689', prcp=0, snow=320)]\n"
          ]
        }
      ]
    },
    {
      "cell_type": "code",
      "metadata": {
        "colab": {
          "base_uri": "https://localhost:8080/"
        },
        "id": "2NKgPZcwc5Ay",
        "outputId": "c4cb5ca7-1512-48ce-92c3-09b351812432"
      },
      "source": [
        "## Final data for ML\n",
        "ff=featureset1.join(featureset2,['CADORS Number'],how='inner')\n",
        "ff=ff.join(featureset3,['CADORS Number'],how='inner')\n",
        "print(ff.count())\n",
        "print(ff.head(5))"
      ],
      "execution_count": null,
      "outputs": [
        {
          "output_type": "stream",
          "name": "stdout",
          "text": [
            "158499\n",
            "[Row(CADORS Number='1993C0072', Occurrence Category=['System/component failure or malfunction [powerplant]'], hour=18, GR='Ontario', Occurrence Event Information=[], month=2, Occurrence Event Information_merged='NA', Occurrence Category_merged='System/component failure or malfunction [powerplant]', flight_rule=['NA'], year_built=['1967'], amateur_built=['No'], gear_type=['NA'], phase_of_flight=['Unknown'], damage=['Unknown'], operator_type=['Commercial'], flight_rule_merged='NA', year_built_merged='1967', amateur_built_merged='No', gear_type_merged='NA', phase_of_flight_merged='Unknown', damage_merged='Unknown', operator_type_merged='Commercial', prcp=1, snow=760), Row(CADORS Number='1993C0151', Occurrence Category=['Collision with obstacle(s) during take-off or landing whilst airborne.', 'Loss of control - ground'], hour=18, GR='Ontario', Occurrence Event Information=[], month=5, Occurrence Event Information_merged='NA', Occurrence Category_merged='Collision with obstacle(s) during take-off or landing whilst airborne.Loss of control - ground', flight_rule=['NA'], year_built=['1956'], amateur_built=['No'], gear_type=['NA'], phase_of_flight=['Unknown'], damage=['Unknown'], operator_type=['Commercial'], flight_rule_merged='NA', year_built_merged='1956', amateur_built_merged='No', gear_type_merged='NA', phase_of_flight_merged='Unknown', damage_merged='Unknown', operator_type_merged='Commercial', prcp=1, snow=80), Row(CADORS Number='1993C0158', Occurrence Category=['Abnormal runway contact'], hour=19, GR='Ontario', Occurrence Event Information=[], month=5, Occurrence Event Information_merged='NA', Occurrence Category_merged='Abnormal runway contact', flight_rule=['NA'], year_built=['NA'], amateur_built=['No'], gear_type=['NA'], phase_of_flight=['Landing'], damage=['Unknown'], operator_type=['Private'], flight_rule_merged='NA', year_built_merged='NA', amateur_built_merged='No', gear_type_merged='NA', phase_of_flight_merged='Landing', damage_merged='Unknown', operator_type_merged='Private', prcp=0, snow=0), Row(CADORS Number='1993C0261', Occurrence Category=['Other', 'System/component failure or malfunction [non-powerplant]'], hour=15, GR='Ontario', Occurrence Event Information=[], month=8, Occurrence Event Information_merged='NA', Occurrence Category_merged='OtherSystem/component failure or malfunction [non-powerplant]', flight_rule=['NA'], year_built=['1970'], amateur_built=['No'], gear_type=['NA'], phase_of_flight=['Unknown'], damage=['Unknown'], operator_type=['Private'], flight_rule_merged='NA', year_built_merged='1970', amateur_built_merged='No', gear_type_merged='NA', phase_of_flight_merged='Unknown', damage_merged='Unknown', operator_type_merged='Private', prcp=3, snow=380), Row(CADORS Number='1993C0289', Occurrence Category=['Collision with obstacle(s) during take-off or landing whilst airborne.'], hour=19, GR='Nunavut', Occurrence Event Information=[], month=8, Occurrence Event Information_merged='NA', Occurrence Category_merged='Collision with obstacle(s) during take-off or landing whilst airborne.', flight_rule=['NA'], year_built=['NA'], amateur_built=['No'], gear_type=['Land'], phase_of_flight=['Approach'], damage=['Unknown'], operator_type=['Commercial'], flight_rule_merged='NA', year_built_merged='NA', amateur_built_merged='No', gear_type_merged='Land', phase_of_flight_merged='Approach', damage_merged='Unknown', operator_type_merged='Commercial', prcp=0, snow=320)]\n"
          ]
        }
      ]
    },
    {
      "cell_type": "code",
      "metadata": {
        "id": "eQnqXpfbZKNk"
      },
      "source": [
        "######################### ML DATA ####################################\n",
        "finalMLData=ff"
      ],
      "execution_count": null,
      "outputs": []
    },
    {
      "cell_type": "code",
      "metadata": {
        "colab": {
          "base_uri": "https://localhost:8080/"
        },
        "id": "CWxBYw7cCX1F",
        "outputId": "cc72375c-343b-4f82-f00f-f86c25c5aa3c"
      },
      "source": [
        "for k in range(9,10):\n",
        "  # str_indexer = StringIndexer(inputCols=['Canadian Aerodrome ID:','Country:','TC Region:','Day Or Night:','World Area:','Occurrence Type:','Province:','Occurrence Event Information_merged','Occurrence Category_merged','aircraft_category_merged','flight_rule_merged','cars_subpart_merged'], outputCols=['Canadian Aerodrome ID1:','Country1:','TC Region1:','Day Or Night1:','World Area1:','Occurrence Type1:','Province1:','Occurrence Event Information_merged1','Occurrence Category_merged1','aircraft_category_merged1','flight_rule_merged1','cars_subpart_merged1'])\n",
        "  # m=str_indexer.fit(finalfeatures)\n",
        "  # td=m.transform(finalfeatures)\n",
        "  # print(td.head())\n",
        "  # print(str_indexer.transform(finalfeatures)).head()\n",
        "  str_indexer = StringIndexer(inputCols=['Occurrence Category_merged','GR','Occurrence Event Information_merged','flight_rule_merged','year_built_merged','amateur_built_merged','gear_type_merged','phase_of_flight_merged','damage_merged','operator_type_merged'], outputCols=['Occurrence Category_merged1','GR1','Occurrence Event Information_merged1','flight_rule_merged1','year_built_merged1','amateur_built_merged1','gear_type_merged1','phase_of_flight_merged1','damage_merged1','operator_type_merged1'],handleInvalid=\"keep\")\n",
        "  assembler = VectorAssembler(inputCols=['hour','month','Occurrence Category_merged1','GR1','Occurrence Event Information_merged1','flight_rule_merged1','year_built_merged1','amateur_built_merged1','gear_type_merged1','phase_of_flight_merged1','phase_of_flight_merged1','damage_merged1','operator_type_merged1','operator_type_merged1','prcp','snow'], outputCol=\"features\")\n",
        "  # print(assembler.transform(finalfeatures).head(5))\n",
        "  kmeans = KMeans(k=k,seed=1,featuresCol=\"features\",predictionCol=\"prediction\")\n",
        "  clustering_pipeline = Pipeline(stages=[str_indexer,assembler,kmeans])\n",
        "  model=clustering_pipeline.fit(finalMLData)\n",
        "  predictions = model.transform(finalMLData)\n",
        "  # Evaluate clustering by computing Silhouette score\n",
        "  evaluator = ClusteringEvaluator()\n",
        "  silhouette = evaluator.evaluate(predictions)\n",
        "  print(\"Silhouette for k= \",k,\" with squared euclidean distance = \" + str(silhouette),'\\n')\n",
        "  predictions.show()\n",
        "# kmeans = KMeans(k=3,seed=1,featuresCol=\"features\",predictionCol=\"prediction\")\n",
        "# clustering_pipeline = Pipeline(stages=[str_indexer,assembler,kmeans])\n",
        "# model=clustering_pipeline.fit(finalfeatures)\n",
        "# predictions = model.transform(finalfeatures)"
      ],
      "execution_count": null,
      "outputs": [
        {
          "output_type": "stream",
          "name": "stdout",
          "text": [
            "Silhouette for k=  9  with squared euclidean distance = 0.8455568938187714 \n",
            "\n",
            "+-------------+--------------------+----+--------+----------------------------+-----+-----------------------------------+--------------------------+-----------+----------+-------------+---------+---------------+-------------+-------------+------------------+-----------------+--------------------+----------------+----------------------+-------------+--------------------+----+----+---------------------------+----+------------------------------------+-------------------+------------------+---------------------+-----------------+-----------------------+--------------+---------------------+--------------------+----------+\n",
            "|CADORS Number| Occurrence Category|hour|      GR|Occurrence Event Information|month|Occurrence Event Information_merged|Occurrence Category_merged|flight_rule|year_built|amateur_built|gear_type|phase_of_flight|       damage|operator_type|flight_rule_merged|year_built_merged|amateur_built_merged|gear_type_merged|phase_of_flight_merged|damage_merged|operator_type_merged|prcp|snow|Occurrence Category_merged1| GR1|Occurrence Event Information_merged1|flight_rule_merged1|year_built_merged1|amateur_built_merged1|gear_type_merged1|phase_of_flight_merged1|damage_merged1|operator_type_merged1|            features|prediction|\n",
            "+-------------+--------------------+----+--------+----------------------------+-----+-----------------------------------+--------------------------+-----------+----------+-------------+---------+---------------+-------------+-------------+------------------+-----------------+--------------------+----------------+----------------------+-------------+--------------------+----+----+---------------------------+----+------------------------------------+-------------------+------------------+---------------------+-----------------+-----------------------+--------------+---------------------+--------------------+----------+\n",
            "|    1993C0072|[System/component...|  18| Ontario|                          []|    2|                                 NA|      System/component ...|       [NA]|    [1967]|         [No]|     [NA]|      [Unknown]|    [Unknown]| [Commercial]|                NA|             1967|                  No|              NA|               Unknown|      Unknown|          Commercial|   1| 760|                       13.0| 0.0|                                 0.0|                0.0|              38.0|                  0.0|              1.0|                    6.0|           1.0|                  0.0|[18.0,2.0,13.0,0....|         5|\n",
            "|    1993C0151|[Collision with o...|  18| Ontario|                          []|    5|                                 NA|      Collision with ob...|       [NA]|    [1956]|         [No]|     [NA]|      [Unknown]|    [Unknown]| [Commercial]|                NA|             1956|                  No|              NA|               Unknown|      Unknown|          Commercial|   1|  80|                      113.0| 0.0|                                 0.0|                0.0|              55.0|                  0.0|              1.0|                    6.0|           1.0|                  0.0|[18.0,5.0,113.0,0...|         0|\n",
            "|    1993C0158|[Abnormal runway ...|  19| Ontario|                          []|    5|                                 NA|      Abnormal runway c...|       [NA]|      [NA]|         [No]|     [NA]|      [Landing]|    [Unknown]|    [Private]|                NA|               NA|                  No|              NA|               Landing|      Unknown|             Private|   0|   0|                       41.0| 0.0|                                 0.0|                0.0|               0.0|                  0.0|              1.0|                    3.0|           1.0|                  1.0|(16,[0,1,2,8,9,10...|         0|\n",
            "|    1993C0261|[Other, System/co...|  15| Ontario|                          []|    8|                                 NA|      OtherSystem/compo...|       [NA]|    [1970]|         [No]|     [NA]|      [Unknown]|    [Unknown]|    [Private]|                NA|             1970|                  No|              NA|               Unknown|      Unknown|             Private|   3| 380|                        2.0| 0.0|                                 0.0|                0.0|              39.0|                  0.0|              1.0|                    6.0|           1.0|                  1.0|[15.0,8.0,2.0,0.0...|         7|\n",
            "|    1993C0289|[Collision with o...|  19| Nunavut|                          []|    8|                                 NA|      Collision with ob...|       [NA]|      [NA]|         [No]|   [Land]|     [Approach]|    [Unknown]| [Commercial]|                NA|               NA|                  No|            Land|              Approach|      Unknown|          Commercial|   0| 320|                       44.0|10.0|                                 0.0|                0.0|               0.0|                  0.0|              0.0|                    1.0|           1.0|                  0.0|(16,[0,1,2,3,9,10...|         7|\n",
            "|    1993C0338|[System/component...|  21|Manitoba|                          []|   10|                                 NA|      System/component ...|       [NA]|      [NA]|         [No]|   [Land]|     [Approach]|  [No Damage]| [Commercial]|                NA|               NA|                  No|            Land|              Approach|    No Damage|          Commercial|   0| 380|                        1.0| 4.0|                                 0.0|                0.0|               0.0|                  0.0|              0.0|                    1.0|           0.0|                  0.0|(16,[0,1,2,3,9,10...|         7|\n",
            "|    1993O0077|[Abnormal runway ...|  22| Ontario|                          []|    2|                                 NA|      Abnormal runway c...|       [NA]|    [1991]|         [No]|   [Land]|      [Landing]|      [Minor]| [Commercial]|                NA|             1991|                  No|            Land|               Landing|        Minor|          Commercial|   8|   0|                       82.0| 0.0|                                 0.0|                0.0|              14.0|                  0.0|              0.0|                    3.0|           4.0|                  0.0|(16,[0,1,2,6,9,10...|         0|\n",
            "|    1993O0119|[System/component...|  19| Ontario|                          []|    3|                                 NA|      OtherSystem/compo...|       [NA]|      [NA]|         [No]|   [Land]|        [Climb]|  [No Damage]| [Commercial]|                NA|               NA|                  No|            Land|                 Climb|    No Damage|          Commercial|   1|   0|                        7.0| 0.0|                                 0.0|                0.0|               0.0|                  0.0|              0.0|                    4.0|           0.0|                  0.0|(16,[0,1,2,9,10,1...|         0|\n",
            "|    1993O0129|[Fuel related, Ot...|  21| Ontario|                          []|    3|                                 NA|      Fuel relatedOther...|       [NA]|      [NA]|         [No]|   [Land]|      [Landing]|    [Unknown]| [Commercial]|                NA|               NA|                  No|            Land|               Landing|      Unknown|          Commercial|   0|   0|                      936.0| 0.0|                                 0.0|                0.0|               0.0|                  0.0|              0.0|                    3.0|           1.0|                  0.0|(16,[0,1,2,9,10,1...|         1|\n",
            "|    1993O0172|[Cabin safety eve...|   6| Ontario|                          []|    4|                                 NA|       Cabin safety events|       [NA]|    [1992]|         [No]|   [Land]|       [Parked]|  [No Damage]| [Commercial]|                NA|             1992|                  No|            Land|                Parked|    No Damage|          Commercial|   0|   0|                      100.0| 0.0|                                 0.0|                0.0|              31.0|                  0.0|              0.0|                    8.0|           0.0|                  0.0|(16,[0,1,2,6,9,10...|         0|\n",
            "|    1993O0220|[Loss of control ...|  19| Ontario|                          []|    4|                                 NA|      Loss of control -...|       [NA]|    [1968]|         [No]|   [Land]|      [Landing]|    [Unknown]| [Commercial]|                NA|             1968|                  No|            Land|               Landing|      Unknown|          Commercial|   4|   0|                      164.0| 0.0|                                 0.0|                0.0|              22.0|                  0.0|              0.0|                    3.0|           1.0|                  0.0|(16,[0,1,2,6,9,10...|         0|\n",
            "|    1993O0233|[Runway excursion...|  20| Ontario|                          []|    5|                                 NA|      Runway excursionS...|       [NA]|      [NA]|         [No]|   [Land]|      [Landing]|[Substantial]| [Commercial]|                NA|               NA|                  No|            Land|               Landing|  Substantial|          Commercial|   0|   0|                      116.0| 0.0|                                 0.0|                0.0|               0.0|                  0.0|              0.0|                    3.0|           3.0|                  0.0|(16,[0,1,2,9,10,1...|         0|\n",
            "|    1993O0309|             [Other]|  19| Ontario|                          []|    6|                                 NA|                     Other|       [NA]|      [NA]|         [No]|   [Land]|      [Takeoff]|  [No Damage]|         [NA]|                NA|               NA|                  No|            Land|               Takeoff|    No Damage|                  NA|   0|   0|                        0.0| 0.0|                                 0.0|                0.0|               0.0|                  0.0|              0.0|                    2.0|           0.0|                  4.0|(16,[0,1,9,10,12,...|         0|\n",
            "|    1993O0325|[System/component...|  20| Ontario|                          []|    6|                                 NA|      Fire/smoke (non-i...|       [NA]|    [1988]|         [No]|   [Land]|       [Cruise]|  [No Damage]| [Commercial]|                NA|             1988|                  No|            Land|                Cruise|    No Damage|          Commercial|   0|   0|                       60.0| 0.0|                                 0.0|                0.0|              19.0|                  0.0|              0.0|                    0.0|           0.0|                  0.0|(16,[0,1,2,6],[20...|         0|\n",
            "|    1993O0394|  [Security related]|  15| Ontario|                          []|    7|                                 NA|          Security related|       [NA]|    [1980]|         [No]|   [Land]|      [Unknown]|    [Unknown]| [Commercial]|                NA|             1980|                  No|            Land|               Unknown|      Unknown|          Commercial|   0|   0|                       10.0| 0.0|                                 0.0|                0.0|               6.0|                  0.0|              0.0|                    6.0|           1.0|                  0.0|(16,[0,1,2,6,9,10...|         0|\n",
            "|    1993O0453|[Other, System/co...|  23| Ontario|                          []|    4|                                 NA|      OtherSystem/compo...|       [NA]|      [NA]|         [No]|   [Land]|         [Taxi]|  [No Damage]| [Commercial]|                NA|               NA|                  No|            Land|                  Taxi|    No Damage|          Commercial|   0|   0|                        2.0| 0.0|                                 0.0|                0.0|               0.0|                  0.0|              0.0|                    5.0|           0.0|                  0.0|(16,[0,1,2,9,10],...|         0|\n",
            "|    1993O0465|[Medical, Other, ...|  21| Ontario|                          []|    7|                                 NA|      MedicalOtherTurbu...|       [NA]|      [NA]|         [No]|   [Land]|      [Unknown]|  [No Damage]| [Commercial]|                NA|               NA|                  No|            Land|               Unknown|    No Damage|          Commercial|   5|   0|                      381.0| 0.0|                                 0.0|                0.0|               0.0|                  0.0|              0.0|                    6.0|           0.0|                  0.0|(16,[0,1,2,9,10,1...|         8|\n",
            "|    1993O0483|[Controlled fligh...|  13| Ontario|                          []|    8|                                 NA|      Controlled flight...|       [NA]|      [NA]|        [Yes]|   [Land]|        [Climb]|    [Unknown]|    [Private]|                NA|               NA|                 Yes|            Land|                 Climb|      Unknown|             Private|   0|   0|                       46.0| 0.0|                                 0.0|                0.0|               0.0|                  2.0|              0.0|                    4.0|           1.0|                  1.0|(16,[0,1,2,7,9,10...|         0|\n",
            "|    1993O0570|[Turbulence encou...|  14| Ontario|                          []|    9|                                 NA|      Turbulence encounter|       [NA]|      [NA]|         [No]|   [Land]|      [Descent]|  [No Damage]| [Commercial]|                NA|               NA|                  No|            Land|               Descent|    No Damage|          Commercial|   3|   0|                       22.0| 0.0|                                 0.0|                0.0|               0.0|                  0.0|              0.0|                    7.0|           0.0|                  0.0|(16,[0,1,2,9,10,1...|         0|\n",
            "|    1993O0630|[System/component...|   1| Ontario|                          []|   10|                                 NA|      System/component ...|       [NA]|      [NA]|         [No]|   [Land]|      [Descent]|  [No Damage]| [Commercial]|                NA|               NA|                  No|            Land|               Descent|    No Damage|          Commercial|   0|   0|                       13.0| 0.0|                                 0.0|                0.0|               0.0|                  0.0|              0.0|                    7.0|           0.0|                  0.0|(16,[0,1,2,9,10],...|         0|\n",
            "+-------------+--------------------+----+--------+----------------------------+-----+-----------------------------------+--------------------------+-----------+----------+-------------+---------+---------------+-------------+-------------+------------------+-----------------+--------------------+----------------+----------------------+-------------+--------------------+----+----+---------------------------+----+------------------------------------+-------------------+------------------+---------------------+-----------------+-----------------------+--------------+---------------------+--------------------+----------+\n",
            "only showing top 20 rows\n",
            "\n"
          ]
        }
      ]
    },
    {
      "cell_type": "code",
      "metadata": {
        "colab": {
          "base_uri": "https://localhost:8080/"
        },
        "id": "KF2uy2aqXY-k",
        "outputId": "d5ab12f2-0d2a-49de-cd98-783294484298"
      },
      "source": [
        "val_data.printSchema()"
      ],
      "execution_count": null,
      "outputs": [
        {
          "output_type": "stream",
          "name": "stdout",
          "text": [
            "root\n",
            " |-- CADORS Number: string (nullable = true)\n",
            " |-- prediction: integer (nullable = false)\n",
            " |-- Fatalities:: long (nullable = true)\n",
            " |-- GR: string (nullable = true)\n",
            " |-- Injuries:: long (nullable = true)\n",
            " |-- Occurrence Category: array (nullable = true)\n",
            " |    |-- element: string (containsNull = true)\n",
            " |-- Occurrence Date:: string (nullable = true)\n",
            " |-- Occurrence Event Information: array (nullable = true)\n",
            " |    |-- element: string (containsNull = true)\n",
            " |-- Occurrence Location:: string (nullable = true)\n",
            " |-- Occurrence Type:: string (nullable = true)\n",
            " |-- Province:: string (nullable = true)\n",
            " |-- aircraft_category: string (nullable = true)\n",
            " |-- amateur_built: string (nullable = true)\n",
            " |-- damage: string (nullable = true)\n",
            " |-- flight_rule: string (nullable = true)\n",
            " |-- gear_type: string (nullable = true)\n",
            " |-- hour: long (nullable = true)\n",
            " |-- label: long (nullable = true)\n",
            " |-- latitude: double (nullable = true)\n",
            " |-- longitude: double (nullable = true)\n",
            " |-- make: string (nullable = true)\n",
            " |-- month: long (nullable = true)\n",
            " |-- operator_type: string (nullable = true)\n",
            " |-- phase_of_flight: string (nullable = true)\n",
            " |-- pos: long (nullable = true)\n",
            " |-- registration_mark: string (nullable = true)\n",
            " |-- year: long (nullable = true)\n",
            " |-- year_built: string (nullable = true)\n",
            "\n"
          ]
        }
      ]
    },
    {
      "cell_type": "code",
      "metadata": {
        "colab": {
          "base_uri": "https://localhost:8080/"
        },
        "id": "EfvNb0hZXF7F",
        "outputId": "37c3cbda-eda6-4d54-b094-d92c2fb9b1c2"
      },
      "source": [
        "val_data.groupby('prediction').agg(sum(col('Fatalities:')),sum(col('Injuries:'))).show()"
      ],
      "execution_count": null,
      "outputs": [
        {
          "output_type": "stream",
          "name": "stdout",
          "text": [
            "+----------+----------------+--------------+\n",
            "|prediction|sum(Fatalities:)|sum(Injuries:)|\n",
            "+----------+----------------+--------------+\n",
            "|         1|             101|           386|\n",
            "|         6|               4|            46|\n",
            "|         3|               2|            16|\n",
            "|         5|              18|            33|\n",
            "|         4|               0|             8|\n",
            "|         8|             197|           601|\n",
            "|         7|              57|           137|\n",
            "|         2|              34|             4|\n",
            "|         0|             778|          1551|\n",
            "+----------+----------------+--------------+\n",
            "\n"
          ]
        }
      ]
    },
    {
      "cell_type": "code",
      "metadata": {
        "id": "0s15DPw9Gbxq"
      },
      "source": [
        "predictions = spark.read.json(\"/content/gdrive/MyDrive/cadors_KM_9/*\")\n",
        "aircraft_df = spark.read.json('/content/gdrive/MyDrive/cadorsdata_aircraft/*')"
      ],
      "execution_count": null,
      "outputs": []
    },
    {
      "cell_type": "code",
      "metadata": {
        "id": "BFYEmOyxBbud"
      },
      "source": [
        "sample=predictions.select(['CADORS Number','GR1','Occurrence Category_merged1','Occurrence Event Information_merged1','amateur_built_merged1','damage_merged1','flight_rule_merged1','gear_type_merged1','hour','month','operator_type_merged1','phase_of_flight_merged1','prcp','snow','year_built_merged1','prediction'])"
      ],
      "execution_count": null,
      "outputs": []
    },
    {
      "cell_type": "code",
      "metadata": {
        "id": "fMdGHMmrJc4s"
      },
      "source": [
        "sample.write.option('header',True).csv('/content/gdrive/MyDrive/cadorsdata_KM_clustering_sample/*')"
      ],
      "execution_count": null,
      "outputs": []
    },
    {
      "cell_type": "code",
      "metadata": {
        "id": "165qTbSemjqN"
      },
      "source": [
        "val_data=predictions.select(['CADORS Number','prediction']).join(aircraft_df,['CADORS Number'])\n",
        "val_data=val_data.dropDuplicates()"
      ],
      "execution_count": null,
      "outputs": []
    },
    {
      "cell_type": "code",
      "metadata": {
        "colab": {
          "base_uri": "https://localhost:8080/"
        },
        "id": "X4cLxRwqn54b",
        "outputId": "dd5713ad-b258-4028-a047-7a6c01272713"
      },
      "source": [
        "val_data=val_data.select(['CADORS Number','Injuries:','Fatalities:','prediction']).dropDuplicates()\n",
        "print(val_data.count())\n",
        "print(val_data.select('CADORS Number').distinct().count())"
      ],
      "execution_count": null,
      "outputs": [
        {
          "output_type": "stream",
          "name": "stdout",
          "text": [
            "158499\n",
            "158499\n"
          ]
        }
      ]
    },
    {
      "cell_type": "code",
      "metadata": {
        "id": "_MO1YksC7004"
      },
      "source": [
        "sample_clustering=val_data.sample(withReplacement=False, fraction=0.01).write.option('header',True).csv('/content/gdrive/MyDrive/cadorsdata_K9_sample')"
      ],
      "execution_count": null,
      "outputs": []
    },
    {
      "cell_type": "code",
      "metadata": {
        "id": "Hg6ciefNnqye"
      },
      "source": [
        "# val_data.show()\n",
        "temp=val_data.groupby('prediction').agg(countDistinct('CADORS Number'),sum('Injuries:'),sum('Fatalities:'),sum('Injuries:')+sum('Fatalities:').alias('totalharm'),((sum('Injuries:')+sum('Fatalities:'))*100/countDistinct('CADORS Number')).alias('harmppercent'))\n",
        "temp.sort(['harmppercent'],ascending = [False]).write.option('header',True).csv('/content/gdrive/MyDrive/cadorsdata_K9_result1/')\n"
      ],
      "execution_count": null,
      "outputs": []
    },
    {
      "cell_type": "code",
      "metadata": {
        "id": "EHTJxtMo9QAh"
      },
      "source": [
        ""
      ],
      "execution_count": null,
      "outputs": []
    }
  ]
}